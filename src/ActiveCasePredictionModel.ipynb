{
 "cells": [
  {
   "cell_type": "code",
   "execution_count": 1,
   "metadata": {},
   "outputs": [],
   "source": [
    "import warnings; \n",
    "warnings.simplefilter('ignore')"
   ]
  },
  {
   "cell_type": "code",
   "execution_count": 2,
   "metadata": {},
   "outputs": [
    {
     "name": "stdout",
     "output_type": "stream",
     "text": [
      "Requirement already satisfied: pystan in /Users/rakeshnagarajappa/opt/anaconda3/envs/fbpro/lib/python3.6/site-packages (2.19.0.0)\n",
      "Requirement already satisfied: Cython!=0.25.1,>=0.22 in /Users/rakeshnagarajappa/opt/anaconda3/envs/fbpro/lib/python3.6/site-packages (from pystan) (0.29.23)\n",
      "Requirement already satisfied: numpy>=1.7 in /Users/rakeshnagarajappa/opt/anaconda3/envs/fbpro/lib/python3.6/site-packages (from pystan) (1.19.5)\n",
      "Collecting fbprophet\n",
      "  Using cached fbprophet-0.7.1.tar.gz (64 kB)\n",
      "Requirement already satisfied: Cython>=0.22 in /Users/rakeshnagarajappa/opt/anaconda3/envs/fbpro/lib/python3.6/site-packages (from fbprophet) (0.29.23)\n",
      "Requirement already satisfied: cmdstanpy==0.9.5 in /Users/rakeshnagarajappa/opt/anaconda3/envs/fbpro/lib/python3.6/site-packages (from fbprophet) (0.9.5)\n",
      "Requirement already satisfied: pystan>=2.14 in /Users/rakeshnagarajappa/opt/anaconda3/envs/fbpro/lib/python3.6/site-packages (from fbprophet) (2.19.0.0)\n",
      "Requirement already satisfied: numpy>=1.15.4 in /Users/rakeshnagarajappa/opt/anaconda3/envs/fbpro/lib/python3.6/site-packages (from fbprophet) (1.19.5)\n",
      "Requirement already satisfied: pandas>=1.0.4 in /Users/rakeshnagarajappa/opt/anaconda3/envs/fbpro/lib/python3.6/site-packages (from fbprophet) (1.1.5)\n",
      "Requirement already satisfied: matplotlib>=2.0.0 in /Users/rakeshnagarajappa/opt/anaconda3/envs/fbpro/lib/python3.6/site-packages (from fbprophet) (3.3.4)\n",
      "Requirement already satisfied: LunarCalendar>=0.0.9 in /Users/rakeshnagarajappa/opt/anaconda3/envs/fbpro/lib/python3.6/site-packages (from fbprophet) (0.0.9)\n",
      "Requirement already satisfied: convertdate>=2.1.2 in /Users/rakeshnagarajappa/opt/anaconda3/envs/fbpro/lib/python3.6/site-packages (from fbprophet) (2.3.2)\n",
      "Requirement already satisfied: holidays>=0.10.2 in /Users/rakeshnagarajappa/opt/anaconda3/envs/fbpro/lib/python3.6/site-packages (from fbprophet) (0.11.1)\n",
      "Requirement already satisfied: setuptools-git>=1.2 in /Users/rakeshnagarajappa/opt/anaconda3/envs/fbpro/lib/python3.6/site-packages (from fbprophet) (1.2)\n",
      "Requirement already satisfied: python-dateutil>=2.8.0 in /Users/rakeshnagarajappa/opt/anaconda3/envs/fbpro/lib/python3.6/site-packages (from fbprophet) (2.8.1)\n",
      "Requirement already satisfied: tqdm>=4.36.1 in /Users/rakeshnagarajappa/opt/anaconda3/envs/fbpro/lib/python3.6/site-packages (from fbprophet) (4.59.0)\n",
      "Requirement already satisfied: pytz>=2014.10 in /Users/rakeshnagarajappa/opt/anaconda3/envs/fbpro/lib/python3.6/site-packages (from convertdate>=2.1.2->fbprophet) (2021.1)\n",
      "Requirement already satisfied: pymeeus<=1,>=0.3.13 in /Users/rakeshnagarajappa/opt/anaconda3/envs/fbpro/lib/python3.6/site-packages (from convertdate>=2.1.2->fbprophet) (0.5.11)\n",
      "Requirement already satisfied: six in /Users/rakeshnagarajappa/opt/anaconda3/envs/fbpro/lib/python3.6/site-packages (from holidays>=0.10.2->fbprophet) (1.15.0)\n",
      "Requirement already satisfied: hijri-converter in /Users/rakeshnagarajappa/opt/anaconda3/envs/fbpro/lib/python3.6/site-packages (from holidays>=0.10.2->fbprophet) (2.1.1)\n",
      "Requirement already satisfied: korean-lunar-calendar in /Users/rakeshnagarajappa/opt/anaconda3/envs/fbpro/lib/python3.6/site-packages (from holidays>=0.10.2->fbprophet) (0.2.1)\n",
      "Requirement already satisfied: ephem>=3.7.5.3 in /Users/rakeshnagarajappa/opt/anaconda3/envs/fbpro/lib/python3.6/site-packages (from LunarCalendar>=0.0.9->fbprophet) (3.7.7.1)\n",
      "Requirement already satisfied: pyparsing!=2.0.4,!=2.1.2,!=2.1.6,>=2.0.3 in /Users/rakeshnagarajappa/opt/anaconda3/envs/fbpro/lib/python3.6/site-packages (from matplotlib>=2.0.0->fbprophet) (2.4.7)\n",
      "Requirement already satisfied: kiwisolver>=1.0.1 in /Users/rakeshnagarajappa/opt/anaconda3/envs/fbpro/lib/python3.6/site-packages (from matplotlib>=2.0.0->fbprophet) (1.3.1)\n",
      "Requirement already satisfied: pillow>=6.2.0 in /Users/rakeshnagarajappa/opt/anaconda3/envs/fbpro/lib/python3.6/site-packages (from matplotlib>=2.0.0->fbprophet) (8.2.0)\n",
      "Requirement already satisfied: cycler>=0.10 in /Users/rakeshnagarajappa/opt/anaconda3/envs/fbpro/lib/python3.6/site-packages (from matplotlib>=2.0.0->fbprophet) (0.10.0)\n",
      "Building wheels for collected packages: fbprophet\n",
      "  Building wheel for fbprophet (setup.py) ... \u001b[?25lerror\n",
      "\u001b[31m  ERROR: Command errored out with exit status 1:\n",
      "   command: /Users/rakeshnagarajappa/opt/anaconda3/envs/fbpro/bin/python -u -c 'import sys, setuptools, tokenize; sys.argv[0] = '\"'\"'/private/var/folders/gw/8x9qmfqj6q38yzcz4q6rv4sc0000gn/T/pip-install-2u93psqm/fbprophet_c13f0557c1834271a5da79d9c32b0380/setup.py'\"'\"'; __file__='\"'\"'/private/var/folders/gw/8x9qmfqj6q38yzcz4q6rv4sc0000gn/T/pip-install-2u93psqm/fbprophet_c13f0557c1834271a5da79d9c32b0380/setup.py'\"'\"';f=getattr(tokenize, '\"'\"'open'\"'\"', open)(__file__);code=f.read().replace('\"'\"'\\r\\n'\"'\"', '\"'\"'\\n'\"'\"');f.close();exec(compile(code, __file__, '\"'\"'exec'\"'\"'))' bdist_wheel -d /private/var/folders/gw/8x9qmfqj6q38yzcz4q6rv4sc0000gn/T/pip-wheel-8477988_\n",
      "       cwd: /private/var/folders/gw/8x9qmfqj6q38yzcz4q6rv4sc0000gn/T/pip-install-2u93psqm/fbprophet_c13f0557c1834271a5da79d9c32b0380/\n",
      "  Complete output (10 lines):\n",
      "  running bdist_wheel\n",
      "  running build\n",
      "  running build_py\n",
      "  creating build\n",
      "  creating build/lib\n",
      "  creating build/lib/fbprophet\n",
      "  creating build/lib/fbprophet/stan_model\n",
      "  Importing plotly failed. Interactive plots will not work.\n",
      "  INFO:pystan:COMPILING THE C++ CODE FOR MODEL anon_model_dfdaf2b8ece8a02eb11f050ec701c0ec NOW.\n",
      "  error: command 'x86_64-apple-darwin13.4.0-clang++' failed with exit status 1\n",
      "  ----------------------------------------\u001b[0m\n",
      "\u001b[31m  ERROR: Failed building wheel for fbprophet\u001b[0m\n",
      "\u001b[?25h  Running setup.py clean for fbprophet\n",
      "Failed to build fbprophet\n",
      "Installing collected packages: fbprophet\n",
      "    Running setup.py install for fbprophet ... \u001b[?25lerror\n",
      "\u001b[31m    ERROR: Command errored out with exit status 1:\n",
      "     command: /Users/rakeshnagarajappa/opt/anaconda3/envs/fbpro/bin/python -u -c 'import sys, setuptools, tokenize; sys.argv[0] = '\"'\"'/private/var/folders/gw/8x9qmfqj6q38yzcz4q6rv4sc0000gn/T/pip-install-2u93psqm/fbprophet_c13f0557c1834271a5da79d9c32b0380/setup.py'\"'\"'; __file__='\"'\"'/private/var/folders/gw/8x9qmfqj6q38yzcz4q6rv4sc0000gn/T/pip-install-2u93psqm/fbprophet_c13f0557c1834271a5da79d9c32b0380/setup.py'\"'\"';f=getattr(tokenize, '\"'\"'open'\"'\"', open)(__file__);code=f.read().replace('\"'\"'\\r\\n'\"'\"', '\"'\"'\\n'\"'\"');f.close();exec(compile(code, __file__, '\"'\"'exec'\"'\"'))' install --record /private/var/folders/gw/8x9qmfqj6q38yzcz4q6rv4sc0000gn/T/pip-record-qtsycf_w/install-record.txt --single-version-externally-managed --compile --install-headers /Users/rakeshnagarajappa/opt/anaconda3/envs/fbpro/include/python3.6m/fbprophet\n",
      "         cwd: /private/var/folders/gw/8x9qmfqj6q38yzcz4q6rv4sc0000gn/T/pip-install-2u93psqm/fbprophet_c13f0557c1834271a5da79d9c32b0380/\n",
      "    Complete output (10 lines):\n",
      "    running install\n",
      "    running build\n",
      "    running build_py\n",
      "    creating build\n",
      "    creating build/lib\n",
      "    creating build/lib/fbprophet\n",
      "    creating build/lib/fbprophet/stan_model\n",
      "    Importing plotly failed. Interactive plots will not work.\n",
      "    INFO:pystan:COMPILING THE C++ CODE FOR MODEL anon_model_dfdaf2b8ece8a02eb11f050ec701c0ec NOW.\n",
      "    error: command 'x86_64-apple-darwin13.4.0-clang++' failed with exit status 1\n",
      "    ----------------------------------------\u001b[0m\n",
      "\u001b[31mERROR: Command errored out with exit status 1: /Users/rakeshnagarajappa/opt/anaconda3/envs/fbpro/bin/python -u -c 'import sys, setuptools, tokenize; sys.argv[0] = '\"'\"'/private/var/folders/gw/8x9qmfqj6q38yzcz4q6rv4sc0000gn/T/pip-install-2u93psqm/fbprophet_c13f0557c1834271a5da79d9c32b0380/setup.py'\"'\"'; __file__='\"'\"'/private/var/folders/gw/8x9qmfqj6q38yzcz4q6rv4sc0000gn/T/pip-install-2u93psqm/fbprophet_c13f0557c1834271a5da79d9c32b0380/setup.py'\"'\"';f=getattr(tokenize, '\"'\"'open'\"'\"', open)(__file__);code=f.read().replace('\"'\"'\\r\\n'\"'\"', '\"'\"'\\n'\"'\"');f.close();exec(compile(code, __file__, '\"'\"'exec'\"'\"'))' install --record /private/var/folders/gw/8x9qmfqj6q38yzcz4q6rv4sc0000gn/T/pip-record-qtsycf_w/install-record.txt --single-version-externally-managed --compile --install-headers /Users/rakeshnagarajappa/opt/anaconda3/envs/fbpro/include/python3.6m/fbprophet Check the logs for full command output.\u001b[0m\n"
     ]
    },
    {
     "name": "stdout",
     "output_type": "stream",
     "text": [
      "\u001b[?25h"
     ]
    }
   ],
   "source": [
    "!pip install pystan\n",
    "!pip install fbprophet"
   ]
  },
  {
   "cell_type": "code",
   "execution_count": 2,
   "metadata": {},
   "outputs": [
    {
     "name": "stderr",
     "output_type": "stream",
     "text": [
      "Importing plotly failed. Interactive plots will not work.\n"
     ]
    }
   ],
   "source": [
    "import pandas as pd\n",
    "from fbprophet import Prophet"
   ]
  },
  {
   "cell_type": "code",
   "execution_count": 3,
   "metadata": {},
   "outputs": [],
   "source": [
    "df=pd.read_csv(\"../dataset/CaliforniaVaccination.csv\",usecols=[0,7])"
   ]
  },
  {
   "cell_type": "code",
   "execution_count": 6,
   "metadata": {},
   "outputs": [
    {
     "data": {
      "text/html": [
       "<div>\n",
       "<style scoped>\n",
       "    .dataframe tbody tr th:only-of-type {\n",
       "        vertical-align: middle;\n",
       "    }\n",
       "\n",
       "    .dataframe tbody tr th {\n",
       "        vertical-align: top;\n",
       "    }\n",
       "\n",
       "    .dataframe thead th {\n",
       "        text-align: right;\n",
       "    }\n",
       "</style>\n",
       "<table border=\"1\" class=\"dataframe\">\n",
       "  <thead>\n",
       "    <tr style=\"text-align: right;\">\n",
       "      <th></th>\n",
       "      <th>date</th>\n",
       "      <th>area</th>\n",
       "      <th>area_type</th>\n",
       "      <th>population</th>\n",
       "      <th>cases</th>\n",
       "      <th>deaths</th>\n",
       "      <th>total_tests</th>\n",
       "      <th>positive_tests</th>\n",
       "      <th>reported_cases</th>\n",
       "      <th>reported_deaths</th>\n",
       "      <th>reported_tests</th>\n",
       "    </tr>\n",
       "  </thead>\n",
       "  <tbody>\n",
       "    <tr>\n",
       "      <th>0</th>\n",
       "      <td>2021-04-24</td>\n",
       "      <td>Alameda</td>\n",
       "      <td>County</td>\n",
       "      <td>1685886.0</td>\n",
       "      <td>0.0</td>\n",
       "      <td>0.0</td>\n",
       "      <td>NaN</td>\n",
       "      <td>NaN</td>\n",
       "      <td>81.0</td>\n",
       "      <td>1.0</td>\n",
       "      <td>7720.0</td>\n",
       "    </tr>\n",
       "    <tr>\n",
       "      <th>1</th>\n",
       "      <td>2021-04-24</td>\n",
       "      <td>Alpine</td>\n",
       "      <td>County</td>\n",
       "      <td>1117.0</td>\n",
       "      <td>0.0</td>\n",
       "      <td>0.0</td>\n",
       "      <td>NaN</td>\n",
       "      <td>NaN</td>\n",
       "      <td>0.0</td>\n",
       "      <td>0.0</td>\n",
       "      <td>4.0</td>\n",
       "    </tr>\n",
       "    <tr>\n",
       "      <th>2</th>\n",
       "      <td>2021-04-24</td>\n",
       "      <td>Amador</td>\n",
       "      <td>County</td>\n",
       "      <td>38531.0</td>\n",
       "      <td>0.0</td>\n",
       "      <td>0.0</td>\n",
       "      <td>NaN</td>\n",
       "      <td>NaN</td>\n",
       "      <td>3.0</td>\n",
       "      <td>0.0</td>\n",
       "      <td>148.0</td>\n",
       "    </tr>\n",
       "    <tr>\n",
       "      <th>3</th>\n",
       "      <td>2021-04-24</td>\n",
       "      <td>Butte</td>\n",
       "      <td>County</td>\n",
       "      <td>217769.0</td>\n",
       "      <td>0.0</td>\n",
       "      <td>0.0</td>\n",
       "      <td>NaN</td>\n",
       "      <td>NaN</td>\n",
       "      <td>6.0</td>\n",
       "      <td>0.0</td>\n",
       "      <td>287.0</td>\n",
       "    </tr>\n",
       "    <tr>\n",
       "      <th>4</th>\n",
       "      <td>2021-04-24</td>\n",
       "      <td>Calaveras</td>\n",
       "      <td>County</td>\n",
       "      <td>44289.0</td>\n",
       "      <td>0.0</td>\n",
       "      <td>0.0</td>\n",
       "      <td>NaN</td>\n",
       "      <td>NaN</td>\n",
       "      <td>3.0</td>\n",
       "      <td>0.0</td>\n",
       "      <td>95.0</td>\n",
       "    </tr>\n",
       "  </tbody>\n",
       "</table>\n",
       "</div>"
      ],
      "text/plain": [
       "         date       area area_type  population  cases  deaths  total_tests  \\\n",
       "0  2021-04-24    Alameda    County   1685886.0    0.0     0.0          NaN   \n",
       "1  2021-04-24     Alpine    County      1117.0    0.0     0.0          NaN   \n",
       "2  2021-04-24     Amador    County     38531.0    0.0     0.0          NaN   \n",
       "3  2021-04-24      Butte    County    217769.0    0.0     0.0          NaN   \n",
       "4  2021-04-24  Calaveras    County     44289.0    0.0     0.0          NaN   \n",
       "\n",
       "   positive_tests  reported_cases  reported_deaths  reported_tests  \n",
       "0             NaN            81.0              1.0          7720.0  \n",
       "1             NaN             0.0              0.0             4.0  \n",
       "2             NaN             3.0              0.0           148.0  \n",
       "3             NaN             6.0              0.0           287.0  \n",
       "4             NaN             3.0              0.0            95.0  "
      ]
     },
     "execution_count": 6,
     "metadata": {},
     "output_type": "execute_result"
    }
   ],
   "source": [
    "county = pd.read_csv(\"../dataset/CountyWiseCases.csv\")\n",
    "county.head()"
   ]
  },
  {
   "cell_type": "code",
   "execution_count": 7,
   "metadata": {},
   "outputs": [
    {
     "data": {
      "text/plain": [
       "date               datetime64[ns]\n",
       "area                       object\n",
       "area_type                  object\n",
       "population                float64\n",
       "cases                     float64\n",
       "deaths                    float64\n",
       "total_tests               float64\n",
       "positive_tests            float64\n",
       "reported_cases            float64\n",
       "reported_deaths           float64\n",
       "reported_tests            float64\n",
       "dtype: object"
      ]
     },
     "execution_count": 7,
     "metadata": {},
     "output_type": "execute_result"
    }
   ],
   "source": [
    "county['date'] = pd.DatetimeIndex(county['date'])\n",
    "county.dtypes"
   ]
  },
  {
   "cell_type": "code",
   "execution_count": 8,
   "metadata": {
    "scrolled": true
   },
   "outputs": [
    {
     "data": {
      "text/html": [
       "<div>\n",
       "<style scoped>\n",
       "    .dataframe tbody tr th:only-of-type {\n",
       "        vertical-align: middle;\n",
       "    }\n",
       "\n",
       "    .dataframe tbody tr th {\n",
       "        vertical-align: top;\n",
       "    }\n",
       "\n",
       "    .dataframe thead th {\n",
       "        text-align: right;\n",
       "    }\n",
       "</style>\n",
       "<table border=\"1\" class=\"dataframe\">\n",
       "  <thead>\n",
       "    <tr style=\"text-align: right;\">\n",
       "      <th></th>\n",
       "      <th>date</th>\n",
       "      <th>area</th>\n",
       "      <th>area_type</th>\n",
       "      <th>population</th>\n",
       "      <th>cases</th>\n",
       "      <th>deaths</th>\n",
       "      <th>total_tests</th>\n",
       "      <th>positive_tests</th>\n",
       "      <th>reported_cases</th>\n",
       "      <th>reported_deaths</th>\n",
       "      <th>reported_tests</th>\n",
       "    </tr>\n",
       "  </thead>\n",
       "  <tbody>\n",
       "    <tr>\n",
       "      <th>44</th>\n",
       "      <td>2021-04-24</td>\n",
       "      <td>Santa Clara</td>\n",
       "      <td>County</td>\n",
       "      <td>1967585.0</td>\n",
       "      <td>0.0</td>\n",
       "      <td>0.0</td>\n",
       "      <td>NaN</td>\n",
       "      <td>NaN</td>\n",
       "      <td>81.0</td>\n",
       "      <td>3.0</td>\n",
       "      <td>14233.0</td>\n",
       "    </tr>\n",
       "    <tr>\n",
       "      <th>105</th>\n",
       "      <td>2021-04-23</td>\n",
       "      <td>Santa Clara</td>\n",
       "      <td>County</td>\n",
       "      <td>1967585.0</td>\n",
       "      <td>2.0</td>\n",
       "      <td>0.0</td>\n",
       "      <td>307.0</td>\n",
       "      <td>3.0</td>\n",
       "      <td>136.0</td>\n",
       "      <td>11.0</td>\n",
       "      <td>17467.0</td>\n",
       "    </tr>\n",
       "    <tr>\n",
       "      <th>166</th>\n",
       "      <td>2021-04-22</td>\n",
       "      <td>Santa Clara</td>\n",
       "      <td>County</td>\n",
       "      <td>1967585.0</td>\n",
       "      <td>25.0</td>\n",
       "      <td>1.0</td>\n",
       "      <td>9686.0</td>\n",
       "      <td>40.0</td>\n",
       "      <td>139.0</td>\n",
       "      <td>8.0</td>\n",
       "      <td>14561.0</td>\n",
       "    </tr>\n",
       "    <tr>\n",
       "      <th>227</th>\n",
       "      <td>2021-04-21</td>\n",
       "      <td>Santa Clara</td>\n",
       "      <td>County</td>\n",
       "      <td>1967585.0</td>\n",
       "      <td>100.0</td>\n",
       "      <td>0.0</td>\n",
       "      <td>14053.0</td>\n",
       "      <td>122.0</td>\n",
       "      <td>90.0</td>\n",
       "      <td>2.0</td>\n",
       "      <td>21885.0</td>\n",
       "    </tr>\n",
       "    <tr>\n",
       "      <th>288</th>\n",
       "      <td>2021-04-20</td>\n",
       "      <td>Santa Clara</td>\n",
       "      <td>County</td>\n",
       "      <td>1967585.0</td>\n",
       "      <td>115.0</td>\n",
       "      <td>0.0</td>\n",
       "      <td>17421.0</td>\n",
       "      <td>141.0</td>\n",
       "      <td>129.0</td>\n",
       "      <td>0.0</td>\n",
       "      <td>7178.0</td>\n",
       "    </tr>\n",
       "    <tr>\n",
       "      <th>349</th>\n",
       "      <td>2021-04-19</td>\n",
       "      <td>Santa Clara</td>\n",
       "      <td>County</td>\n",
       "      <td>1967585.0</td>\n",
       "      <td>142.0</td>\n",
       "      <td>0.0</td>\n",
       "      <td>21511.0</td>\n",
       "      <td>177.0</td>\n",
       "      <td>103.0</td>\n",
       "      <td>0.0</td>\n",
       "      <td>8393.0</td>\n",
       "    </tr>\n",
       "    <tr>\n",
       "      <th>410</th>\n",
       "      <td>2021-04-18</td>\n",
       "      <td>Santa Clara</td>\n",
       "      <td>County</td>\n",
       "      <td>1967585.0</td>\n",
       "      <td>86.0</td>\n",
       "      <td>0.0</td>\n",
       "      <td>5373.0</td>\n",
       "      <td>102.0</td>\n",
       "      <td>109.0</td>\n",
       "      <td>0.0</td>\n",
       "      <td>14698.0</td>\n",
       "    </tr>\n",
       "  </tbody>\n",
       "</table>\n",
       "</div>"
      ],
      "text/plain": [
       "          date         area area_type  population  cases  deaths  total_tests  \\\n",
       "44  2021-04-24  Santa Clara    County   1967585.0    0.0     0.0          NaN   \n",
       "105 2021-04-23  Santa Clara    County   1967585.0    2.0     0.0        307.0   \n",
       "166 2021-04-22  Santa Clara    County   1967585.0   25.0     1.0       9686.0   \n",
       "227 2021-04-21  Santa Clara    County   1967585.0  100.0     0.0      14053.0   \n",
       "288 2021-04-20  Santa Clara    County   1967585.0  115.0     0.0      17421.0   \n",
       "349 2021-04-19  Santa Clara    County   1967585.0  142.0     0.0      21511.0   \n",
       "410 2021-04-18  Santa Clara    County   1967585.0   86.0     0.0       5373.0   \n",
       "\n",
       "     positive_tests  reported_cases  reported_deaths  reported_tests  \n",
       "44              NaN            81.0              3.0         14233.0  \n",
       "105             3.0           136.0             11.0         17467.0  \n",
       "166            40.0           139.0              8.0         14561.0  \n",
       "227           122.0            90.0              2.0         21885.0  \n",
       "288           141.0           129.0              0.0          7178.0  \n",
       "349           177.0           103.0              0.0          8393.0  \n",
       "410           102.0           109.0              0.0         14698.0  "
      ]
     },
     "execution_count": 8,
     "metadata": {},
     "output_type": "execute_result"
    }
   ],
   "source": [
    "#Getting the county wise data\n",
    "import datetime\n",
    "df = county.loc[(county[\"area\"] == \"Santa Clara\")]\n",
    "df.head(7)"
   ]
  },
  {
   "cell_type": "code",
   "execution_count": 6,
   "metadata": {},
   "outputs": [
    {
     "ename": "NameError",
     "evalue": "name 'cs' is not defined",
     "output_type": "error",
     "traceback": [
      "\u001b[0;31m---------------------------------------------------------------------------\u001b[0m",
      "\u001b[0;31mNameError\u001b[0m                                 Traceback (most recent call last)",
      "\u001b[0;32m<ipython-input-6-766c4d824ce5>\u001b[0m in \u001b[0;36m<module>\u001b[0;34m\u001b[0m\n\u001b[0;32m----> 1\u001b[0;31m \u001b[0mcs\u001b[0m\u001b[0;34m.\u001b[0m\u001b[0mpopulation\u001b[0m\u001b[0;34m.\u001b[0m\u001b[0munique\u001b[0m\u001b[0;34m(\u001b[0m\u001b[0;34m)\u001b[0m\u001b[0;34m[\u001b[0m\u001b[0;36m0\u001b[0m\u001b[0;34m]\u001b[0m\u001b[0;34m\u001b[0m\u001b[0;34m\u001b[0m\u001b[0m\n\u001b[0m",
      "\u001b[0;31mNameError\u001b[0m: name 'cs' is not defined"
     ]
    }
   ],
   "source": [
    "cs.population.unique()[0]"
   ]
  },
  {
   "cell_type": "code",
   "execution_count": 234,
   "metadata": {},
   "outputs": [
    {
     "name": "stdout",
     "output_type": "stream",
     "text": [
      "6.534478996913911\n"
     ]
    }
   ],
   "source": [
    "cs = df[df['date'] > '2021-04-16']\n",
    "cs = cs[1:]\n",
    "#calculating current number of cases per 100k\n",
    "mean = cs.agg({'reported_cases': ['mean']})\n",
    "population = cs.population.unique()\n",
    "div = population[0]/100000\n",
    "curr_cases = mean['reported_cases']/div\n",
    "print(curr_cases['mean'])"
   ]
  },
  {
   "cell_type": "code",
   "execution_count": null,
   "metadata": {},
   "outputs": [],
   "source": []
  },
  {
   "cell_type": "code",
   "execution_count": 216,
   "metadata": {},
   "outputs": [
    {
     "data": {
      "text/plain": [
       "0.8946596701666224"
      ]
     },
     "execution_count": 216,
     "metadata": {},
     "output_type": "execute_result"
    }
   ],
   "source": [
    "#calculating average positive tests\n",
    "c_sum = 0;\n",
    "for index, row in cs.iterrows():\n",
    "    t_avg = (row['positive_tests']/row['reported_tests'])*100\n",
    "    c_sum +=t_avg\n",
    "pos = c_sum/7;\n",
    "pos\n",
    "    "
   ]
  },
  {
   "cell_type": "code",
   "execution_count": 9,
   "metadata": {},
   "outputs": [
    {
     "data": {
      "text/html": [
       "<div>\n",
       "<style scoped>\n",
       "    .dataframe tbody tr th:only-of-type {\n",
       "        vertical-align: middle;\n",
       "    }\n",
       "\n",
       "    .dataframe tbody tr th {\n",
       "        vertical-align: top;\n",
       "    }\n",
       "\n",
       "    .dataframe thead th {\n",
       "        text-align: right;\n",
       "    }\n",
       "</style>\n",
       "<table border=\"1\" class=\"dataframe\">\n",
       "  <thead>\n",
       "    <tr style=\"text-align: right;\">\n",
       "      <th></th>\n",
       "      <th>date</th>\n",
       "      <th>reported_cases</th>\n",
       "    </tr>\n",
       "  </thead>\n",
       "  <tbody>\n",
       "    <tr>\n",
       "      <th>8523</th>\n",
       "      <td>2020-12-06</td>\n",
       "      <td>773.0</td>\n",
       "    </tr>\n",
       "    <tr>\n",
       "      <th>8584</th>\n",
       "      <td>2020-12-05</td>\n",
       "      <td>874.0</td>\n",
       "    </tr>\n",
       "    <tr>\n",
       "      <th>8645</th>\n",
       "      <td>2020-12-04</td>\n",
       "      <td>844.0</td>\n",
       "    </tr>\n",
       "    <tr>\n",
       "      <th>8706</th>\n",
       "      <td>2020-12-03</td>\n",
       "      <td>743.0</td>\n",
       "    </tr>\n",
       "    <tr>\n",
       "      <th>8767</th>\n",
       "      <td>2020-12-02</td>\n",
       "      <td>481.0</td>\n",
       "    </tr>\n",
       "  </tbody>\n",
       "</table>\n",
       "</div>"
      ],
      "text/plain": [
       "           date  reported_cases\n",
       "8523 2020-12-06           773.0\n",
       "8584 2020-12-05           874.0\n",
       "8645 2020-12-04           844.0\n",
       "8706 2020-12-03           743.0\n",
       "8767 2020-12-02           481.0"
      ]
     },
     "execution_count": 9,
     "metadata": {},
     "output_type": "execute_result"
    }
   ],
   "source": [
    "#Filtering the county data for prediction \n",
    "df = df[df['date'] > '2020-12-01']\n",
    "df = df[[\"date\",\"reported_cases\"]]\n",
    "df.tail()\n"
   ]
  },
  {
   "cell_type": "code",
   "execution_count": 140,
   "metadata": {},
   "outputs": [
    {
     "data": {
      "text/html": [
       "<div>\n",
       "<style scoped>\n",
       "    .dataframe tbody tr th:only-of-type {\n",
       "        vertical-align: middle;\n",
       "    }\n",
       "\n",
       "    .dataframe tbody tr th {\n",
       "        vertical-align: top;\n",
       "    }\n",
       "\n",
       "    .dataframe thead th {\n",
       "        text-align: right;\n",
       "    }\n",
       "</style>\n",
       "<table border=\"1\" class=\"dataframe\">\n",
       "  <thead>\n",
       "    <tr style=\"text-align: right;\">\n",
       "      <th></th>\n",
       "      <th>date</th>\n",
       "      <th>reported_cases</th>\n",
       "    </tr>\n",
       "  </thead>\n",
       "  <tbody>\n",
       "    <tr>\n",
       "      <th>8479</th>\n",
       "      <td>2020-12-06</td>\n",
       "      <td>696.0</td>\n",
       "    </tr>\n",
       "    <tr>\n",
       "      <th>8540</th>\n",
       "      <td>2020-12-05</td>\n",
       "      <td>910.0</td>\n",
       "    </tr>\n",
       "    <tr>\n",
       "      <th>8601</th>\n",
       "      <td>2020-12-04</td>\n",
       "      <td>687.0</td>\n",
       "    </tr>\n",
       "    <tr>\n",
       "      <th>8662</th>\n",
       "      <td>2020-12-03</td>\n",
       "      <td>487.0</td>\n",
       "    </tr>\n",
       "    <tr>\n",
       "      <th>8723</th>\n",
       "      <td>2020-12-02</td>\n",
       "      <td>445.0</td>\n",
       "    </tr>\n",
       "  </tbody>\n",
       "</table>\n",
       "</div>"
      ],
      "text/plain": [
       "           date  reported_cases\n",
       "8479 2020-12-06           696.0\n",
       "8540 2020-12-05           910.0\n",
       "8601 2020-12-04           687.0\n",
       "8662 2020-12-03           487.0\n",
       "8723 2020-12-02           445.0"
      ]
     },
     "execution_count": 140,
     "metadata": {},
     "output_type": "execute_result"
    }
   ],
   "source": [
    "df.tail()"
   ]
  },
  {
   "cell_type": "code",
   "execution_count": 128,
   "metadata": {},
   "outputs": [
    {
     "data": {
      "text/html": [
       "<div>\n",
       "<style scoped>\n",
       "    .dataframe tbody tr th:only-of-type {\n",
       "        vertical-align: middle;\n",
       "    }\n",
       "\n",
       "    .dataframe tbody tr th {\n",
       "        vertical-align: top;\n",
       "    }\n",
       "\n",
       "    .dataframe thead th {\n",
       "        text-align: right;\n",
       "    }\n",
       "</style>\n",
       "<table border=\"1\" class=\"dataframe\">\n",
       "  <thead>\n",
       "    <tr style=\"text-align: right;\">\n",
       "      <th></th>\n",
       "      <th>reported_cases</th>\n",
       "    </tr>\n",
       "  </thead>\n",
       "  <tbody>\n",
       "    <tr>\n",
       "      <th>count</th>\n",
       "      <td>388.000000</td>\n",
       "    </tr>\n",
       "    <tr>\n",
       "      <th>mean</th>\n",
       "      <td>220.951031</td>\n",
       "    </tr>\n",
       "    <tr>\n",
       "      <th>std</th>\n",
       "      <td>271.655904</td>\n",
       "    </tr>\n",
       "    <tr>\n",
       "      <th>min</th>\n",
       "      <td>-788.000000</td>\n",
       "    </tr>\n",
       "    <tr>\n",
       "      <th>25%</th>\n",
       "      <td>67.750000</td>\n",
       "    </tr>\n",
       "    <tr>\n",
       "      <th>50%</th>\n",
       "      <td>113.000000</td>\n",
       "    </tr>\n",
       "    <tr>\n",
       "      <th>75%</th>\n",
       "      <td>247.750000</td>\n",
       "    </tr>\n",
       "    <tr>\n",
       "      <th>max</th>\n",
       "      <td>2317.000000</td>\n",
       "    </tr>\n",
       "  </tbody>\n",
       "</table>\n",
       "</div>"
      ],
      "text/plain": [
       "       reported_cases\n",
       "count      388.000000\n",
       "mean       220.951031\n",
       "std        271.655904\n",
       "min       -788.000000\n",
       "25%         67.750000\n",
       "50%        113.000000\n",
       "75%        247.750000\n",
       "max       2317.000000"
      ]
     },
     "execution_count": 128,
     "metadata": {},
     "output_type": "execute_result"
    }
   ],
   "source": [
    "df.describe()"
   ]
  },
  {
   "cell_type": "code",
   "execution_count": 10,
   "metadata": {},
   "outputs": [],
   "source": [
    "#setting the date time index on date column\n",
    "df['ds'] = pd.DatetimeIndex(df['date'])\n",
    "df.drop('date', axis=1, inplace=True)\n",
    "df_train = df[0:]"
   ]
  },
  {
   "cell_type": "code",
   "execution_count": 98,
   "metadata": {},
   "outputs": [
    {
     "data": {
      "text/plain": [
       "reported_cases           float64\n",
       "ds                datetime64[ns]\n",
       "dtype: object"
      ]
     },
     "execution_count": 98,
     "metadata": {},
     "output_type": "execute_result"
    }
   ],
   "source": [
    "df.dtypes"
   ]
  },
  {
   "cell_type": "code",
   "execution_count": 11,
   "metadata": {},
   "outputs": [
    {
     "data": {
      "text/html": [
       "<div>\n",
       "<style scoped>\n",
       "    .dataframe tbody tr th:only-of-type {\n",
       "        vertical-align: middle;\n",
       "    }\n",
       "\n",
       "    .dataframe tbody tr th {\n",
       "        vertical-align: top;\n",
       "    }\n",
       "\n",
       "    .dataframe thead th {\n",
       "        text-align: right;\n",
       "    }\n",
       "</style>\n",
       "<table border=\"1\" class=\"dataframe\">\n",
       "  <thead>\n",
       "    <tr style=\"text-align: right;\">\n",
       "      <th></th>\n",
       "      <th>y</th>\n",
       "      <th>ds</th>\n",
       "    </tr>\n",
       "  </thead>\n",
       "  <tbody>\n",
       "    <tr>\n",
       "      <th>8523</th>\n",
       "      <td>773.0</td>\n",
       "      <td>2020-12-06</td>\n",
       "    </tr>\n",
       "    <tr>\n",
       "      <th>8584</th>\n",
       "      <td>874.0</td>\n",
       "      <td>2020-12-05</td>\n",
       "    </tr>\n",
       "    <tr>\n",
       "      <th>8645</th>\n",
       "      <td>844.0</td>\n",
       "      <td>2020-12-04</td>\n",
       "    </tr>\n",
       "    <tr>\n",
       "      <th>8706</th>\n",
       "      <td>743.0</td>\n",
       "      <td>2020-12-03</td>\n",
       "    </tr>\n",
       "    <tr>\n",
       "      <th>8767</th>\n",
       "      <td>481.0</td>\n",
       "      <td>2020-12-02</td>\n",
       "    </tr>\n",
       "  </tbody>\n",
       "</table>\n",
       "</div>"
      ],
      "text/plain": [
       "          y         ds\n",
       "8523  773.0 2020-12-06\n",
       "8584  874.0 2020-12-05\n",
       "8645  844.0 2020-12-04\n",
       "8706  743.0 2020-12-03\n",
       "8767  481.0 2020-12-02"
      ]
     },
     "execution_count": 11,
     "metadata": {},
     "output_type": "execute_result"
    }
   ],
   "source": [
    "#renaming the columns as required by the prophet\n",
    "df_train.columns = ['y','ds']\n",
    "df_train.tail()"
   ]
  },
  {
   "cell_type": "code",
   "execution_count": 53,
   "metadata": {},
   "outputs": [
    {
     "data": {
      "text/html": [
       "<div>\n",
       "<style scoped>\n",
       "    .dataframe tbody tr th:only-of-type {\n",
       "        vertical-align: middle;\n",
       "    }\n",
       "\n",
       "    .dataframe tbody tr th {\n",
       "        vertical-align: top;\n",
       "    }\n",
       "\n",
       "    .dataframe thead th {\n",
       "        text-align: right;\n",
       "    }\n",
       "</style>\n",
       "<table border=\"1\" class=\"dataframe\">\n",
       "  <thead>\n",
       "    <tr style=\"text-align: right;\">\n",
       "      <th></th>\n",
       "      <th>ds</th>\n",
       "      <th>yhat</th>\n",
       "    </tr>\n",
       "  </thead>\n",
       "  <tbody>\n",
       "    <tr>\n",
       "      <th>0</th>\n",
       "      <td>2021-01-19</td>\n",
       "      <td>2.615568e+05</td>\n",
       "    </tr>\n",
       "    <tr>\n",
       "      <th>1</th>\n",
       "      <td>2021-01-20</td>\n",
       "      <td>2.672398e+05</td>\n",
       "    </tr>\n",
       "    <tr>\n",
       "      <th>2</th>\n",
       "      <td>2021-01-21</td>\n",
       "      <td>2.764013e+05</td>\n",
       "    </tr>\n",
       "    <tr>\n",
       "      <th>3</th>\n",
       "      <td>2021-01-22</td>\n",
       "      <td>3.086372e+05</td>\n",
       "    </tr>\n",
       "    <tr>\n",
       "      <th>4</th>\n",
       "      <td>2021-01-23</td>\n",
       "      <td>3.510873e+05</td>\n",
       "    </tr>\n",
       "    <tr>\n",
       "      <th>...</th>\n",
       "      <td>...</td>\n",
       "      <td>...</td>\n",
       "    </tr>\n",
       "    <tr>\n",
       "      <th>106</th>\n",
       "      <td>2021-05-05</td>\n",
       "      <td>1.138317e+07</td>\n",
       "    </tr>\n",
       "    <tr>\n",
       "      <th>107</th>\n",
       "      <td>2021-05-06</td>\n",
       "      <td>1.151842e+07</td>\n",
       "    </tr>\n",
       "    <tr>\n",
       "      <th>108</th>\n",
       "      <td>2021-05-07</td>\n",
       "      <td>1.167675e+07</td>\n",
       "    </tr>\n",
       "    <tr>\n",
       "      <th>109</th>\n",
       "      <td>2021-05-08</td>\n",
       "      <td>1.184528e+07</td>\n",
       "    </tr>\n",
       "    <tr>\n",
       "      <th>110</th>\n",
       "      <td>2021-05-09</td>\n",
       "      <td>1.199242e+07</td>\n",
       "    </tr>\n",
       "  </tbody>\n",
       "</table>\n",
       "<p>111 rows × 2 columns</p>\n",
       "</div>"
      ],
      "text/plain": [
       "            ds          yhat\n",
       "0   2021-01-19  2.615568e+05\n",
       "1   2021-01-20  2.672398e+05\n",
       "2   2021-01-21  2.764013e+05\n",
       "3   2021-01-22  3.086372e+05\n",
       "4   2021-01-23  3.510873e+05\n",
       "..         ...           ...\n",
       "106 2021-05-05  1.138317e+07\n",
       "107 2021-05-06  1.151842e+07\n",
       "108 2021-05-07  1.167675e+07\n",
       "109 2021-05-08  1.184528e+07\n",
       "110 2021-05-09  1.199242e+07\n",
       "\n",
       "[111 rows x 2 columns]"
      ]
     },
     "execution_count": 53,
     "metadata": {},
     "output_type": "execute_result"
    }
   ],
   "source": [
    "forecast[['ds','yhat']]"
   ]
  },
  {
   "cell_type": "code",
   "execution_count": 13,
   "metadata": {},
   "outputs": [],
   "source": [
    "from sklearn.metrics import mean_squared_error\n",
    "import numpy as np"
   ]
  },
  {
   "cell_type": "code",
   "execution_count": 29,
   "metadata": {},
   "outputs": [],
   "source": [
    "p_error = mean_squared_error(df_test.people_fully_vaccinated,df_forcasted.yhat)"
   ]
  },
  {
   "cell_type": "code",
   "execution_count": 30,
   "metadata": {},
   "outputs": [
    {
     "data": {
      "text/plain": [
       "554440.755476227"
      ]
     },
     "execution_count": 30,
     "metadata": {},
     "output_type": "execute_result"
    }
   ],
   "source": [
    "np.sqrt(p_error)"
   ]
  },
  {
   "cell_type": "code",
   "execution_count": 30,
   "metadata": {
    "scrolled": true
   },
   "outputs": [
    {
     "name": "stderr",
     "output_type": "stream",
     "text": [
      "INFO:fbprophet:Disabling yearly seasonality. Run prophet with yearly_seasonality=True to override this.\n",
      "INFO:fbprophet:Disabling daily seasonality. Run prophet with daily_seasonality=True to override this.\n",
      "WARNING:pystan:Rhat above 1.1 or below 0.9 indicates that the chains very likely have not mixed\n"
     ]
    },
    {
     "data": {
      "text/html": [
       "<div>\n",
       "<style scoped>\n",
       "    .dataframe tbody tr th:only-of-type {\n",
       "        vertical-align: middle;\n",
       "    }\n",
       "\n",
       "    .dataframe tbody tr th {\n",
       "        vertical-align: top;\n",
       "    }\n",
       "\n",
       "    .dataframe thead th {\n",
       "        text-align: right;\n",
       "    }\n",
       "</style>\n",
       "<table border=\"1\" class=\"dataframe\">\n",
       "  <thead>\n",
       "    <tr style=\"text-align: right;\">\n",
       "      <th></th>\n",
       "      <th>ds</th>\n",
       "      <th>trend</th>\n",
       "      <th>yhat_lower</th>\n",
       "      <th>yhat_upper</th>\n",
       "      <th>trend_lower</th>\n",
       "      <th>trend_upper</th>\n",
       "      <th>additive_terms</th>\n",
       "      <th>additive_terms_lower</th>\n",
       "      <th>additive_terms_upper</th>\n",
       "      <th>weekly</th>\n",
       "      <th>weekly_lower</th>\n",
       "      <th>weekly_upper</th>\n",
       "      <th>multiplicative_terms</th>\n",
       "      <th>multiplicative_terms_lower</th>\n",
       "      <th>multiplicative_terms_upper</th>\n",
       "      <th>yhat</th>\n",
       "    </tr>\n",
       "  </thead>\n",
       "  <tbody>\n",
       "    <tr>\n",
       "      <th>0</th>\n",
       "      <td>2020-12-02</td>\n",
       "      <td>829.914175</td>\n",
       "      <td>150.426707</td>\n",
       "      <td>1295.247984</td>\n",
       "      <td>556.661272</td>\n",
       "      <td>1006.189328</td>\n",
       "      <td>-113.095339</td>\n",
       "      <td>-240.716354</td>\n",
       "      <td>-3.479095</td>\n",
       "      <td>-113.095339</td>\n",
       "      <td>-240.716354</td>\n",
       "      <td>-3.479095</td>\n",
       "      <td>0.0</td>\n",
       "      <td>0.0</td>\n",
       "      <td>0.0</td>\n",
       "      <td>716.818835</td>\n",
       "    </tr>\n",
       "    <tr>\n",
       "      <th>1</th>\n",
       "      <td>2020-12-03</td>\n",
       "      <td>864.897641</td>\n",
       "      <td>421.215171</td>\n",
       "      <td>1556.156922</td>\n",
       "      <td>617.255358</td>\n",
       "      <td>1020.205211</td>\n",
       "      <td>90.694676</td>\n",
       "      <td>-16.912612</td>\n",
       "      <td>181.179226</td>\n",
       "      <td>90.694676</td>\n",
       "      <td>-16.912612</td>\n",
       "      <td>181.179226</td>\n",
       "      <td>0.0</td>\n",
       "      <td>0.0</td>\n",
       "      <td>0.0</td>\n",
       "      <td>955.592317</td>\n",
       "    </tr>\n",
       "    <tr>\n",
       "      <th>2</th>\n",
       "      <td>2020-12-04</td>\n",
       "      <td>899.881107</td>\n",
       "      <td>406.586587</td>\n",
       "      <td>1560.631998</td>\n",
       "      <td>677.849445</td>\n",
       "      <td>1036.145314</td>\n",
       "      <td>69.249932</td>\n",
       "      <td>-14.451742</td>\n",
       "      <td>142.218114</td>\n",
       "      <td>69.249932</td>\n",
       "      <td>-14.451742</td>\n",
       "      <td>142.218114</td>\n",
       "      <td>0.0</td>\n",
       "      <td>0.0</td>\n",
       "      <td>0.0</td>\n",
       "      <td>969.131038</td>\n",
       "    </tr>\n",
       "    <tr>\n",
       "      <th>3</th>\n",
       "      <td>2020-12-05</td>\n",
       "      <td>934.864573</td>\n",
       "      <td>418.907947</td>\n",
       "      <td>1550.182660</td>\n",
       "      <td>738.443531</td>\n",
       "      <td>1051.293471</td>\n",
       "      <td>67.017025</td>\n",
       "      <td>-53.619018</td>\n",
       "      <td>162.041782</td>\n",
       "      <td>67.017025</td>\n",
       "      <td>-53.619018</td>\n",
       "      <td>162.041782</td>\n",
       "      <td>0.0</td>\n",
       "      <td>0.0</td>\n",
       "      <td>0.0</td>\n",
       "      <td>1001.881597</td>\n",
       "    </tr>\n",
       "    <tr>\n",
       "      <th>4</th>\n",
       "      <td>2020-12-06</td>\n",
       "      <td>969.848039</td>\n",
       "      <td>401.798061</td>\n",
       "      <td>1585.862181</td>\n",
       "      <td>799.037618</td>\n",
       "      <td>1076.635482</td>\n",
       "      <td>35.975693</td>\n",
       "      <td>-65.649293</td>\n",
       "      <td>144.282153</td>\n",
       "      <td>35.975693</td>\n",
       "      <td>-65.649293</td>\n",
       "      <td>144.282153</td>\n",
       "      <td>0.0</td>\n",
       "      <td>0.0</td>\n",
       "      <td>0.0</td>\n",
       "      <td>1005.823731</td>\n",
       "    </tr>\n",
       "  </tbody>\n",
       "</table>\n",
       "</div>"
      ],
      "text/plain": [
       "          ds       trend  yhat_lower   yhat_upper  trend_lower  trend_upper  \\\n",
       "0 2020-12-02  829.914175  150.426707  1295.247984   556.661272  1006.189328   \n",
       "1 2020-12-03  864.897641  421.215171  1556.156922   617.255358  1020.205211   \n",
       "2 2020-12-04  899.881107  406.586587  1560.631998   677.849445  1036.145314   \n",
       "3 2020-12-05  934.864573  418.907947  1550.182660   738.443531  1051.293471   \n",
       "4 2020-12-06  969.848039  401.798061  1585.862181   799.037618  1076.635482   \n",
       "\n",
       "   additive_terms  additive_terms_lower  additive_terms_upper      weekly  \\\n",
       "0     -113.095339           -240.716354             -3.479095 -113.095339   \n",
       "1       90.694676            -16.912612            181.179226   90.694676   \n",
       "2       69.249932            -14.451742            142.218114   69.249932   \n",
       "3       67.017025            -53.619018            162.041782   67.017025   \n",
       "4       35.975693            -65.649293            144.282153   35.975693   \n",
       "\n",
       "   weekly_lower  weekly_upper  multiplicative_terms  \\\n",
       "0   -240.716354     -3.479095                   0.0   \n",
       "1    -16.912612    181.179226                   0.0   \n",
       "2    -14.451742    142.218114                   0.0   \n",
       "3    -53.619018    162.041782                   0.0   \n",
       "4    -65.649293    144.282153                   0.0   \n",
       "\n",
       "   multiplicative_terms_lower  multiplicative_terms_upper         yhat  \n",
       "0                         0.0                         0.0   716.818835  \n",
       "1                         0.0                         0.0   955.592317  \n",
       "2                         0.0                         0.0   969.131038  \n",
       "3                         0.0                         0.0  1001.881597  \n",
       "4                         0.0                         0.0  1005.823731  "
      ]
     },
     "execution_count": 30,
     "metadata": {},
     "output_type": "execute_result"
    }
   ],
   "source": [
    "#prediction model for active cases in county\n",
    "m = Prophet(interval_width=0.95,changepoint_prior_scale=0.5,mcmc_samples=30)\n",
    "model = m.fit(df_train)\n",
    "future = m.make_future_dataframe(periods=90,freq='D')\n",
    "forecast = m.predict(future)\n",
    "forecast.head()"
   ]
  },
  {
   "cell_type": "code",
   "execution_count": 31,
   "metadata": {
    "scrolled": true
   },
   "outputs": [
    {
     "data": {
      "image/png": "[encoded data removed]",
      "text/plain": [
       "<Figure size 720x432 with 1 Axes>"
      ]
     },
     "metadata": {},
     "output_type": "display_data"
    }
   ],
   "source": [
    "plot1 = m.plot(forecast)"
   ]
  },
  {
   "cell_type": "code",
   "execution_count": 32,
   "metadata": {
    "scrolled": true
   },
   "outputs": [
    {
     "data": {
      "image/png": "[encoded data removed]",
      "text/plain": [
       "<Figure size 720x432 with 1 Axes>"
      ]
     },
     "metadata": {},
     "output_type": "display_data"
    }
   ],
   "source": [
    "from fbprophet.plot import add_changepoints_to_plot\n",
    "fig = m.plot(forecast)\n",
    "a = add_changepoints_to_plot(fig.gca(), m, forecast)"
   ]
  },
  {
   "cell_type": "code",
   "execution_count": 250,
   "metadata": {},
   "outputs": [
    {
     "data": {
      "text/html": [
       "<div>\n",
       "<style scoped>\n",
       "    .dataframe tbody tr th:only-of-type {\n",
       "        vertical-align: middle;\n",
       "    }\n",
       "\n",
       "    .dataframe tbody tr th {\n",
       "        vertical-align: top;\n",
       "    }\n",
       "\n",
       "    .dataframe thead th {\n",
       "        text-align: right;\n",
       "    }\n",
       "</style>\n",
       "<table border=\"1\" class=\"dataframe\">\n",
       "  <thead>\n",
       "    <tr style=\"text-align: right;\">\n",
       "      <th></th>\n",
       "      <th>ds</th>\n",
       "      <th>yhat</th>\n",
       "    </tr>\n",
       "  </thead>\n",
       "  <tbody>\n",
       "    <tr>\n",
       "      <th>227</th>\n",
       "      <td>2021-07-17</td>\n",
       "      <td>95.215627</td>\n",
       "    </tr>\n",
       "    <tr>\n",
       "      <th>228</th>\n",
       "      <td>2021-07-18</td>\n",
       "      <td>69.540933</td>\n",
       "    </tr>\n",
       "    <tr>\n",
       "      <th>229</th>\n",
       "      <td>2021-07-19</td>\n",
       "      <td>-34.535540</td>\n",
       "    </tr>\n",
       "    <tr>\n",
       "      <th>230</th>\n",
       "      <td>2021-07-20</td>\n",
       "      <td>-31.774614</td>\n",
       "    </tr>\n",
       "    <tr>\n",
       "      <th>231</th>\n",
       "      <td>2021-07-21</td>\n",
       "      <td>-93.858455</td>\n",
       "    </tr>\n",
       "    <tr>\n",
       "      <th>232</th>\n",
       "      <td>2021-07-22</td>\n",
       "      <td>116.002128</td>\n",
       "    </tr>\n",
       "    <tr>\n",
       "      <th>233</th>\n",
       "      <td>2021-07-23</td>\n",
       "      <td>98.695793</td>\n",
       "    </tr>\n",
       "  </tbody>\n",
       "</table>\n",
       "</div>"
      ],
      "text/plain": [
       "            ds        yhat\n",
       "227 2021-07-17   95.215627\n",
       "228 2021-07-18   69.540933\n",
       "229 2021-07-19  -34.535540\n",
       "230 2021-07-20  -31.774614\n",
       "231 2021-07-21  -93.858455\n",
       "232 2021-07-22  116.002128\n",
       "233 2021-07-23   98.695793"
      ]
     },
     "execution_count": 250,
     "metadata": {},
     "output_type": "execute_result"
    }
   ],
   "source": [
    "forecast[['ds','yhat']].tail(7)"
   ]
  },
  {
   "cell_type": "code",
   "execution_count": 251,
   "metadata": {},
   "outputs": [
    {
     "name": "stdout",
     "output_type": "stream",
     "text": [
      "19.285290382567183 2.7550414832238834\n"
     ]
    }
   ],
   "source": [
    "fc = forecast[['ds','yhat']].tail(7)\n",
    "c_sum = 0;\n",
    "div = population[0]/100000\n",
    "for index, row in fc.iterrows():\n",
    "    if(row['yhat'] > 0):\n",
    "        t_a = row['yhat']/div\n",
    "        c_sum +=t_a\n",
    "pos = c_sum/7;\n",
    "print(c_sum,pos)"
   ]
  },
  {
   "cell_type": "code",
   "execution_count": 33,
   "metadata": {
    "scrolled": true
   },
   "outputs": [
    {
     "data": {
      "image/png": "[encoded data removed]",
      "text/plain": [
       "<Figure size 648x432 with 2 Axes>"
      ]
     },
     "metadata": {},
     "output_type": "display_data"
    }
   ],
   "source": [
    "plt2 = m.plot_components(forecast)"
   ]
  },
  {
   "cell_type": "code",
   "execution_count": 34,
   "metadata": {},
   "outputs": [
    {
     "name": "stderr",
     "output_type": "stream",
     "text": [
      "INFO:fbprophet:Making 1 forecasts with cutoffs between 2021-03-25 00:00:00 and 2021-03-25 00:00:00\n"
     ]
    },
    {
     "data": {
      "application/vnd.jupyter.widget-view+json": {
       "model_id": "dade02715315445b9bada2c76b91c659",
       "version_major": 2,
       "version_minor": 0
      },
      "text/plain": [
       "  0%|          | 0/1 [00:00<?, ?it/s]"
      ]
     },
     "metadata": {},
     "output_type": "display_data"
    },
    {
     "name": "stderr",
     "output_type": "stream",
     "text": [
      "WARNING:pystan:Rhat above 1.1 or below 0.9 indicates that the chains very likely have not mixed\n",
      "WARNING:pystan:1 of 60 iterations ended with a divergence (1.67 %).\n",
      "WARNING:pystan:Try running with adapt_delta larger than 0.8 to remove the divergences.\n"
     ]
    },
    {
     "data": {
      "text/html": [
       "<div>\n",
       "<style scoped>\n",
       "    .dataframe tbody tr th:only-of-type {\n",
       "        vertical-align: middle;\n",
       "    }\n",
       "\n",
       "    .dataframe tbody tr th {\n",
       "        vertical-align: top;\n",
       "    }\n",
       "\n",
       "    .dataframe thead th {\n",
       "        text-align: right;\n",
       "    }\n",
       "</style>\n",
       "<table border=\"1\" class=\"dataframe\">\n",
       "  <thead>\n",
       "    <tr style=\"text-align: right;\">\n",
       "      <th></th>\n",
       "      <th>ds</th>\n",
       "      <th>yhat</th>\n",
       "      <th>yhat_lower</th>\n",
       "      <th>yhat_upper</th>\n",
       "      <th>y</th>\n",
       "      <th>cutoff</th>\n",
       "    </tr>\n",
       "  </thead>\n",
       "  <tbody>\n",
       "    <tr>\n",
       "      <th>0</th>\n",
       "      <td>2021-03-26</td>\n",
       "      <td>170.739901</td>\n",
       "      <td>-469.306516</td>\n",
       "      <td>839.344903</td>\n",
       "      <td>82.0</td>\n",
       "      <td>2021-03-25</td>\n",
       "    </tr>\n",
       "    <tr>\n",
       "      <th>1</th>\n",
       "      <td>2021-03-27</td>\n",
       "      <td>153.944662</td>\n",
       "      <td>-473.381936</td>\n",
       "      <td>804.103356</td>\n",
       "      <td>165.0</td>\n",
       "      <td>2021-03-25</td>\n",
       "    </tr>\n",
       "    <tr>\n",
       "      <th>2</th>\n",
       "      <td>2021-03-28</td>\n",
       "      <td>125.920866</td>\n",
       "      <td>-488.061029</td>\n",
       "      <td>751.056542</td>\n",
       "      <td>108.0</td>\n",
       "      <td>2021-03-25</td>\n",
       "    </tr>\n",
       "    <tr>\n",
       "      <th>3</th>\n",
       "      <td>2021-03-29</td>\n",
       "      <td>-20.407316</td>\n",
       "      <td>-655.089181</td>\n",
       "      <td>626.571429</td>\n",
       "      <td>103.0</td>\n",
       "      <td>2021-03-25</td>\n",
       "    </tr>\n",
       "    <tr>\n",
       "      <th>4</th>\n",
       "      <td>2021-03-30</td>\n",
       "      <td>-6.270776</td>\n",
       "      <td>-645.689182</td>\n",
       "      <td>568.778581</td>\n",
       "      <td>78.0</td>\n",
       "      <td>2021-03-25</td>\n",
       "    </tr>\n",
       "  </tbody>\n",
       "</table>\n",
       "</div>"
      ],
      "text/plain": [
       "          ds        yhat  yhat_lower  yhat_upper      y     cutoff\n",
       "0 2021-03-26  170.739901 -469.306516  839.344903   82.0 2021-03-25\n",
       "1 2021-03-27  153.944662 -473.381936  804.103356  165.0 2021-03-25\n",
       "2 2021-03-28  125.920866 -488.061029  751.056542  108.0 2021-03-25\n",
       "3 2021-03-29  -20.407316 -655.089181  626.571429  103.0 2021-03-25\n",
       "4 2021-03-30   -6.270776 -645.689182  568.778581   78.0 2021-03-25"
      ]
     },
     "execution_count": 34,
     "metadata": {},
     "output_type": "execute_result"
    }
   ],
   "source": [
    "#validation of prediction model\n",
    "from fbprophet.diagnostics import cross_validation\n",
    "df_cv = cross_validation(m, initial='100 days', period='15 days', horizon = '30 days')\n",
    "df_cv.head()"
   ]
  },
  {
   "cell_type": "code",
   "execution_count": 35,
   "metadata": {},
   "outputs": [
    {
     "data": {
      "text/html": [
       "<div>\n",
       "<style scoped>\n",
       "    .dataframe tbody tr th:only-of-type {\n",
       "        vertical-align: middle;\n",
       "    }\n",
       "\n",
       "    .dataframe tbody tr th {\n",
       "        vertical-align: top;\n",
       "    }\n",
       "\n",
       "    .dataframe thead th {\n",
       "        text-align: right;\n",
       "    }\n",
       "</style>\n",
       "<table border=\"1\" class=\"dataframe\">\n",
       "  <thead>\n",
       "    <tr style=\"text-align: right;\">\n",
       "      <th></th>\n",
       "      <th>horizon</th>\n",
       "      <th>mse</th>\n",
       "      <th>rmse</th>\n",
       "      <th>mae</th>\n",
       "      <th>mape</th>\n",
       "      <th>mdape</th>\n",
       "      <th>coverage</th>\n",
       "    </tr>\n",
       "  </thead>\n",
       "  <tbody>\n",
       "    <tr>\n",
       "      <th>0</th>\n",
       "      <td>3 days</td>\n",
       "      <td>2772.715984</td>\n",
       "      <td>52.656585</td>\n",
       "      <td>39.238702</td>\n",
       "      <td>0.438377</td>\n",
       "      <td>0.165934</td>\n",
       "      <td>1.0</td>\n",
       "    </tr>\n",
       "    <tr>\n",
       "      <th>1</th>\n",
       "      <td>4 days</td>\n",
       "      <td>5224.247892</td>\n",
       "      <td>72.278959</td>\n",
       "      <td>50.794507</td>\n",
       "      <td>0.477022</td>\n",
       "      <td>0.165934</td>\n",
       "      <td>1.0</td>\n",
       "    </tr>\n",
       "    <tr>\n",
       "      <th>2</th>\n",
       "      <td>5 days</td>\n",
       "      <td>7550.695634</td>\n",
       "      <td>86.894739</td>\n",
       "      <td>75.199653</td>\n",
       "      <td>0.814819</td>\n",
       "      <td>1.080395</td>\n",
       "      <td>1.0</td>\n",
       "    </tr>\n",
       "    <tr>\n",
       "      <th>3</th>\n",
       "      <td>6 days</td>\n",
       "      <td>15539.668554</td>\n",
       "      <td>124.658207</td>\n",
       "      <td>121.174805</td>\n",
       "      <td>1.363563</td>\n",
       "      <td>1.198129</td>\n",
       "      <td>1.0</td>\n",
       "    </tr>\n",
       "    <tr>\n",
       "      <th>4</th>\n",
       "      <td>7 days</td>\n",
       "      <td>11950.987490</td>\n",
       "      <td>109.320572</td>\n",
       "      <td>102.308400</td>\n",
       "      <td>1.172312</td>\n",
       "      <td>1.080395</td>\n",
       "      <td>1.0</td>\n",
       "    </tr>\n",
       "  </tbody>\n",
       "</table>\n",
       "</div>"
      ],
      "text/plain": [
       "  horizon           mse        rmse         mae      mape     mdape  coverage\n",
       "0  3 days   2772.715984   52.656585   39.238702  0.438377  0.165934       1.0\n",
       "1  4 days   5224.247892   72.278959   50.794507  0.477022  0.165934       1.0\n",
       "2  5 days   7550.695634   86.894739   75.199653  0.814819  1.080395       1.0\n",
       "3  6 days  15539.668554  124.658207  121.174805  1.363563  1.198129       1.0\n",
       "4  7 days  11950.987490  109.320572  102.308400  1.172312  1.080395       1.0"
      ]
     },
     "execution_count": 35,
     "metadata": {},
     "output_type": "execute_result"
    }
   ],
   "source": [
    "from fbprophet.diagnostics import performance_metrics\n",
    "df_p = performance_metrics(df_cv)\n",
    "df_p.head()"
   ]
  },
  {
   "cell_type": "code",
   "execution_count": 36,
   "metadata": {
    "scrolled": true
   },
   "outputs": [
    {
     "data": {
      "image/png": "[encoded data removed]",
      "text/plain": [
       "<Figure size 720x432 with 1 Axes>"
      ]
     },
     "metadata": {},
     "output_type": "display_data"
    }
   ],
   "source": [
    "from fbprophet.plot import plot_cross_validation_metric\n",
    "fig = plot_cross_validation_metric(df_cv, metric='mape')"
   ]
  },
  {
   "cell_type": "code",
   "execution_count": null,
   "metadata": {},
   "outputs": [],
   "source": [
    "#MODEL WITHOUT THE TUNING PARAMETERS"
   ]
  },
  {
   "cell_type": "code",
   "execution_count": 11,
   "metadata": {
    "scrolled": true
   },
   "outputs": [
    {
     "name": "stderr",
     "output_type": "stream",
     "text": [
      "INFO:fbprophet:Disabling yearly seasonality. Run prophet with yearly_seasonality=True to override this.\n",
      "INFO:fbprophet:Disabling daily seasonality. Run prophet with daily_seasonality=True to override this.\n"
     ]
    },
    {
     "data": {
      "text/html": [
       "<div>\n",
       "<style scoped>\n",
       "    .dataframe tbody tr th:only-of-type {\n",
       "        vertical-align: middle;\n",
       "    }\n",
       "\n",
       "    .dataframe tbody tr th {\n",
       "        vertical-align: top;\n",
       "    }\n",
       "\n",
       "    .dataframe thead th {\n",
       "        text-align: right;\n",
       "    }\n",
       "</style>\n",
       "<table border=\"1\" class=\"dataframe\">\n",
       "  <thead>\n",
       "    <tr style=\"text-align: right;\">\n",
       "      <th></th>\n",
       "      <th>ds</th>\n",
       "      <th>trend</th>\n",
       "      <th>yhat_lower</th>\n",
       "      <th>yhat_upper</th>\n",
       "      <th>trend_lower</th>\n",
       "      <th>trend_upper</th>\n",
       "      <th>additive_terms</th>\n",
       "      <th>additive_terms_lower</th>\n",
       "      <th>additive_terms_upper</th>\n",
       "      <th>weekly</th>\n",
       "      <th>weekly_lower</th>\n",
       "      <th>weekly_upper</th>\n",
       "      <th>multiplicative_terms</th>\n",
       "      <th>multiplicative_terms_lower</th>\n",
       "      <th>multiplicative_terms_upper</th>\n",
       "      <th>yhat</th>\n",
       "    </tr>\n",
       "  </thead>\n",
       "  <tbody>\n",
       "    <tr>\n",
       "      <th>0</th>\n",
       "      <td>2020-12-02</td>\n",
       "      <td>1347.355778</td>\n",
       "      <td>560.898057</td>\n",
       "      <td>1838.571402</td>\n",
       "      <td>1347.355778</td>\n",
       "      <td>1347.355778</td>\n",
       "      <td>-133.201823</td>\n",
       "      <td>-133.201823</td>\n",
       "      <td>-133.201823</td>\n",
       "      <td>-133.201823</td>\n",
       "      <td>-133.201823</td>\n",
       "      <td>-133.201823</td>\n",
       "      <td>0.0</td>\n",
       "      <td>0.0</td>\n",
       "      <td>0.0</td>\n",
       "      <td>1214.153954</td>\n",
       "    </tr>\n",
       "    <tr>\n",
       "      <th>1</th>\n",
       "      <td>2020-12-03</td>\n",
       "      <td>1336.035460</td>\n",
       "      <td>777.551658</td>\n",
       "      <td>2076.270510</td>\n",
       "      <td>1336.035460</td>\n",
       "      <td>1336.035460</td>\n",
       "      <td>81.824252</td>\n",
       "      <td>81.824252</td>\n",
       "      <td>81.824252</td>\n",
       "      <td>81.824252</td>\n",
       "      <td>81.824252</td>\n",
       "      <td>81.824252</td>\n",
       "      <td>0.0</td>\n",
       "      <td>0.0</td>\n",
       "      <td>0.0</td>\n",
       "      <td>1417.859711</td>\n",
       "    </tr>\n",
       "    <tr>\n",
       "      <th>2</th>\n",
       "      <td>2020-12-04</td>\n",
       "      <td>1324.715142</td>\n",
       "      <td>730.195664</td>\n",
       "      <td>1978.554409</td>\n",
       "      <td>1324.715142</td>\n",
       "      <td>1324.715142</td>\n",
       "      <td>69.425846</td>\n",
       "      <td>69.425846</td>\n",
       "      <td>69.425846</td>\n",
       "      <td>69.425846</td>\n",
       "      <td>69.425846</td>\n",
       "      <td>69.425846</td>\n",
       "      <td>0.0</td>\n",
       "      <td>0.0</td>\n",
       "      <td>0.0</td>\n",
       "      <td>1394.140989</td>\n",
       "    </tr>\n",
       "    <tr>\n",
       "      <th>3</th>\n",
       "      <td>2020-12-05</td>\n",
       "      <td>1313.394824</td>\n",
       "      <td>719.056321</td>\n",
       "      <td>2015.325821</td>\n",
       "      <td>1313.394824</td>\n",
       "      <td>1313.394824</td>\n",
       "      <td>65.117150</td>\n",
       "      <td>65.117150</td>\n",
       "      <td>65.117150</td>\n",
       "      <td>65.117150</td>\n",
       "      <td>65.117150</td>\n",
       "      <td>65.117150</td>\n",
       "      <td>0.0</td>\n",
       "      <td>0.0</td>\n",
       "      <td>0.0</td>\n",
       "      <td>1378.511974</td>\n",
       "    </tr>\n",
       "    <tr>\n",
       "      <th>4</th>\n",
       "      <td>2020-12-06</td>\n",
       "      <td>1302.074507</td>\n",
       "      <td>672.321148</td>\n",
       "      <td>1971.733603</td>\n",
       "      <td>1302.074507</td>\n",
       "      <td>1302.074507</td>\n",
       "      <td>35.902273</td>\n",
       "      <td>35.902273</td>\n",
       "      <td>35.902273</td>\n",
       "      <td>35.902273</td>\n",
       "      <td>35.902273</td>\n",
       "      <td>35.902273</td>\n",
       "      <td>0.0</td>\n",
       "      <td>0.0</td>\n",
       "      <td>0.0</td>\n",
       "      <td>1337.976779</td>\n",
       "    </tr>\n",
       "  </tbody>\n",
       "</table>\n",
       "</div>"
      ],
      "text/plain": [
       "          ds        trend  yhat_lower   yhat_upper  trend_lower  trend_upper  \\\n",
       "0 2020-12-02  1347.355778  560.898057  1838.571402  1347.355778  1347.355778   \n",
       "1 2020-12-03  1336.035460  777.551658  2076.270510  1336.035460  1336.035460   \n",
       "2 2020-12-04  1324.715142  730.195664  1978.554409  1324.715142  1324.715142   \n",
       "3 2020-12-05  1313.394824  719.056321  2015.325821  1313.394824  1313.394824   \n",
       "4 2020-12-06  1302.074507  672.321148  1971.733603  1302.074507  1302.074507   \n",
       "\n",
       "   additive_terms  additive_terms_lower  additive_terms_upper      weekly  \\\n",
       "0     -133.201823           -133.201823           -133.201823 -133.201823   \n",
       "1       81.824252             81.824252             81.824252   81.824252   \n",
       "2       69.425846             69.425846             69.425846   69.425846   \n",
       "3       65.117150             65.117150             65.117150   65.117150   \n",
       "4       35.902273             35.902273             35.902273   35.902273   \n",
       "\n",
       "   weekly_lower  weekly_upper  multiplicative_terms  \\\n",
       "0   -133.201823   -133.201823                   0.0   \n",
       "1     81.824252     81.824252                   0.0   \n",
       "2     69.425846     69.425846                   0.0   \n",
       "3     65.117150     65.117150                   0.0   \n",
       "4     35.902273     35.902273                   0.0   \n",
       "\n",
       "   multiplicative_terms_lower  multiplicative_terms_upper         yhat  \n",
       "0                         0.0                         0.0  1214.153954  \n",
       "1                         0.0                         0.0  1417.859711  \n",
       "2                         0.0                         0.0  1394.140989  \n",
       "3                         0.0                         0.0  1378.511974  \n",
       "4                         0.0                         0.0  1337.976779  "
      ]
     },
     "execution_count": 11,
     "metadata": {},
     "output_type": "execute_result"
    }
   ],
   "source": [
    "m = Prophet(interval_width=0.95)\n",
    "model = m.fit(df_train)\n",
    "future = m.make_future_dataframe(periods=90,freq='D')\n",
    "forecast = m.predict(future)\n",
    "forecast.head()"
   ]
  },
  {
   "cell_type": "code",
   "execution_count": 12,
   "metadata": {
    "scrolled": true
   },
   "outputs": [
    {
     "data": {
      "image/png": "[encoded data removed]",
      "text/plain": [
       "<Figure size 720x432 with 1 Axes>"
      ]
     },
     "metadata": {},
     "output_type": "display_data"
    }
   ],
   "source": [
    "plot1 = m.plot(forecast)"
   ]
  },
  {
   "cell_type": "code",
   "execution_count": 13,
   "metadata": {
    "scrolled": true
   },
   "outputs": [
    {
     "name": "stderr",
     "output_type": "stream",
     "text": [
      "INFO:fbprophet:Making 1 forecasts with cutoffs between 2021-03-25 00:00:00 and 2021-03-25 00:00:00\n"
     ]
    },
    {
     "data": {
      "application/vnd.jupyter.widget-view+json": {
       "model_id": "c3602e17bc58496b90e3fa178b049499",
       "version_major": 2,
       "version_minor": 0
      },
      "text/plain": [
       "  0%|          | 0/1 [00:00<?, ?it/s]"
      ]
     },
     "metadata": {},
     "output_type": "display_data"
    },
    {
     "data": {
      "text/html": [
       "<div>\n",
       "<style scoped>\n",
       "    .dataframe tbody tr th:only-of-type {\n",
       "        vertical-align: middle;\n",
       "    }\n",
       "\n",
       "    .dataframe tbody tr th {\n",
       "        vertical-align: top;\n",
       "    }\n",
       "\n",
       "    .dataframe thead th {\n",
       "        text-align: right;\n",
       "    }\n",
       "</style>\n",
       "<table border=\"1\" class=\"dataframe\">\n",
       "  <thead>\n",
       "    <tr style=\"text-align: right;\">\n",
       "      <th></th>\n",
       "      <th>ds</th>\n",
       "      <th>yhat</th>\n",
       "      <th>yhat_lower</th>\n",
       "      <th>yhat_upper</th>\n",
       "      <th>y</th>\n",
       "      <th>cutoff</th>\n",
       "    </tr>\n",
       "  </thead>\n",
       "  <tbody>\n",
       "    <tr>\n",
       "      <th>0</th>\n",
       "      <td>2021-03-26</td>\n",
       "      <td>-21.777958</td>\n",
       "      <td>-704.471594</td>\n",
       "      <td>669.405742</td>\n",
       "      <td>82.0</td>\n",
       "      <td>2021-03-25</td>\n",
       "    </tr>\n",
       "    <tr>\n",
       "      <th>1</th>\n",
       "      <td>2021-03-27</td>\n",
       "      <td>-43.584939</td>\n",
       "      <td>-697.113961</td>\n",
       "      <td>600.801719</td>\n",
       "      <td>165.0</td>\n",
       "      <td>2021-03-25</td>\n",
       "    </tr>\n",
       "    <tr>\n",
       "      <th>2</th>\n",
       "      <td>2021-03-28</td>\n",
       "      <td>-71.333184</td>\n",
       "      <td>-760.930759</td>\n",
       "      <td>612.566490</td>\n",
       "      <td>108.0</td>\n",
       "      <td>2021-03-25</td>\n",
       "    </tr>\n",
       "    <tr>\n",
       "      <th>3</th>\n",
       "      <td>2021-03-29</td>\n",
       "      <td>-199.376003</td>\n",
       "      <td>-832.780797</td>\n",
       "      <td>478.508282</td>\n",
       "      <td>103.0</td>\n",
       "      <td>2021-03-25</td>\n",
       "    </tr>\n",
       "    <tr>\n",
       "      <th>4</th>\n",
       "      <td>2021-03-30</td>\n",
       "      <td>-202.289529</td>\n",
       "      <td>-864.830164</td>\n",
       "      <td>419.365068</td>\n",
       "      <td>78.0</td>\n",
       "      <td>2021-03-25</td>\n",
       "    </tr>\n",
       "  </tbody>\n",
       "</table>\n",
       "</div>"
      ],
      "text/plain": [
       "          ds        yhat  yhat_lower  yhat_upper      y     cutoff\n",
       "0 2021-03-26  -21.777958 -704.471594  669.405742   82.0 2021-03-25\n",
       "1 2021-03-27  -43.584939 -697.113961  600.801719  165.0 2021-03-25\n",
       "2 2021-03-28  -71.333184 -760.930759  612.566490  108.0 2021-03-25\n",
       "3 2021-03-29 -199.376003 -832.780797  478.508282  103.0 2021-03-25\n",
       "4 2021-03-30 -202.289529 -864.830164  419.365068   78.0 2021-03-25"
      ]
     },
     "execution_count": 13,
     "metadata": {},
     "output_type": "execute_result"
    }
   ],
   "source": [
    "#validation of prediction model\n",
    "from fbprophet.diagnostics import cross_validation\n",
    "df_cv = cross_validation(m, initial='100 days', period='15 days', horizon = '30 days')\n",
    "df_cv.head()"
   ]
  },
  {
   "cell_type": "code",
   "execution_count": 14,
   "metadata": {},
   "outputs": [
    {
     "data": {
      "image/png": "[encoded data removed]",
      "text/plain": [
       "<Figure size 720x432 with 1 Axes>"
      ]
     },
     "metadata": {},
     "output_type": "display_data"
    }
   ],
   "source": [
    "from fbprophet.plot import plot_cross_validation_metric\n",
    "fig = plot_cross_validation_metric(df_cv, metric='mape')"
   ]
  },
  {
   "cell_type": "code",
   "execution_count": 19,
   "metadata": {},
   "outputs": [
    {
     "name": "stderr",
     "output_type": "stream",
     "text": [
      "INFO:fbprophet:Disabling yearly seasonality. Run prophet with yearly_seasonality=True to override this.\n",
      "INFO:fbprophet:Disabling daily seasonality. Run prophet with daily_seasonality=True to override this.\n"
     ]
    },
    {
     "data": {
      "text/html": [
       "<div>\n",
       "<style scoped>\n",
       "    .dataframe tbody tr th:only-of-type {\n",
       "        vertical-align: middle;\n",
       "    }\n",
       "\n",
       "    .dataframe tbody tr th {\n",
       "        vertical-align: top;\n",
       "    }\n",
       "\n",
       "    .dataframe thead th {\n",
       "        text-align: right;\n",
       "    }\n",
       "</style>\n",
       "<table border=\"1\" class=\"dataframe\">\n",
       "  <thead>\n",
       "    <tr style=\"text-align: right;\">\n",
       "      <th></th>\n",
       "      <th>ds</th>\n",
       "      <th>trend</th>\n",
       "      <th>yhat_lower</th>\n",
       "      <th>yhat_upper</th>\n",
       "      <th>trend_lower</th>\n",
       "      <th>trend_upper</th>\n",
       "      <th>additive_terms</th>\n",
       "      <th>additive_terms_lower</th>\n",
       "      <th>additive_terms_upper</th>\n",
       "      <th>weekly</th>\n",
       "      <th>weekly_lower</th>\n",
       "      <th>weekly_upper</th>\n",
       "      <th>multiplicative_terms</th>\n",
       "      <th>multiplicative_terms_lower</th>\n",
       "      <th>multiplicative_terms_upper</th>\n",
       "      <th>yhat</th>\n",
       "    </tr>\n",
       "  </thead>\n",
       "  <tbody>\n",
       "    <tr>\n",
       "      <th>0</th>\n",
       "      <td>2020-12-02</td>\n",
       "      <td>762.604210</td>\n",
       "      <td>141.251834</td>\n",
       "      <td>1155.790504</td>\n",
       "      <td>762.604210</td>\n",
       "      <td>762.604210</td>\n",
       "      <td>-120.231913</td>\n",
       "      <td>-120.231913</td>\n",
       "      <td>-120.231913</td>\n",
       "      <td>-120.231913</td>\n",
       "      <td>-120.231913</td>\n",
       "      <td>-120.231913</td>\n",
       "      <td>0.0</td>\n",
       "      <td>0.0</td>\n",
       "      <td>0.0</td>\n",
       "      <td>642.372298</td>\n",
       "    </tr>\n",
       "    <tr>\n",
       "      <th>1</th>\n",
       "      <td>2020-12-03</td>\n",
       "      <td>809.000904</td>\n",
       "      <td>433.584112</td>\n",
       "      <td>1382.274535</td>\n",
       "      <td>809.000904</td>\n",
       "      <td>809.000904</td>\n",
       "      <td>89.040580</td>\n",
       "      <td>89.040580</td>\n",
       "      <td>89.040580</td>\n",
       "      <td>89.040580</td>\n",
       "      <td>89.040580</td>\n",
       "      <td>89.040580</td>\n",
       "      <td>0.0</td>\n",
       "      <td>0.0</td>\n",
       "      <td>0.0</td>\n",
       "      <td>898.041484</td>\n",
       "    </tr>\n",
       "    <tr>\n",
       "      <th>2</th>\n",
       "      <td>2020-12-04</td>\n",
       "      <td>855.397598</td>\n",
       "      <td>461.040449</td>\n",
       "      <td>1394.658081</td>\n",
       "      <td>855.397598</td>\n",
       "      <td>855.397598</td>\n",
       "      <td>70.595375</td>\n",
       "      <td>70.595375</td>\n",
       "      <td>70.595375</td>\n",
       "      <td>70.595375</td>\n",
       "      <td>70.595375</td>\n",
       "      <td>70.595375</td>\n",
       "      <td>0.0</td>\n",
       "      <td>0.0</td>\n",
       "      <td>0.0</td>\n",
       "      <td>925.992973</td>\n",
       "    </tr>\n",
       "    <tr>\n",
       "      <th>3</th>\n",
       "      <td>2020-12-05</td>\n",
       "      <td>901.794293</td>\n",
       "      <td>478.689963</td>\n",
       "      <td>1460.129813</td>\n",
       "      <td>901.794293</td>\n",
       "      <td>901.794293</td>\n",
       "      <td>61.376453</td>\n",
       "      <td>61.376453</td>\n",
       "      <td>61.376453</td>\n",
       "      <td>61.376453</td>\n",
       "      <td>61.376453</td>\n",
       "      <td>61.376453</td>\n",
       "      <td>0.0</td>\n",
       "      <td>0.0</td>\n",
       "      <td>0.0</td>\n",
       "      <td>963.170745</td>\n",
       "    </tr>\n",
       "    <tr>\n",
       "      <th>4</th>\n",
       "      <td>2020-12-06</td>\n",
       "      <td>948.190987</td>\n",
       "      <td>489.345676</td>\n",
       "      <td>1480.625703</td>\n",
       "      <td>948.190987</td>\n",
       "      <td>948.190987</td>\n",
       "      <td>35.898936</td>\n",
       "      <td>35.898936</td>\n",
       "      <td>35.898936</td>\n",
       "      <td>35.898936</td>\n",
       "      <td>35.898936</td>\n",
       "      <td>35.898936</td>\n",
       "      <td>0.0</td>\n",
       "      <td>0.0</td>\n",
       "      <td>0.0</td>\n",
       "      <td>984.089923</td>\n",
       "    </tr>\n",
       "  </tbody>\n",
       "</table>\n",
       "</div>"
      ],
      "text/plain": [
       "          ds       trend  yhat_lower   yhat_upper  trend_lower  trend_upper  \\\n",
       "0 2020-12-02  762.604210  141.251834  1155.790504   762.604210   762.604210   \n",
       "1 2020-12-03  809.000904  433.584112  1382.274535   809.000904   809.000904   \n",
       "2 2020-12-04  855.397598  461.040449  1394.658081   855.397598   855.397598   \n",
       "3 2020-12-05  901.794293  478.689963  1460.129813   901.794293   901.794293   \n",
       "4 2020-12-06  948.190987  489.345676  1480.625703   948.190987   948.190987   \n",
       "\n",
       "   additive_terms  additive_terms_lower  additive_terms_upper      weekly  \\\n",
       "0     -120.231913           -120.231913           -120.231913 -120.231913   \n",
       "1       89.040580             89.040580             89.040580   89.040580   \n",
       "2       70.595375             70.595375             70.595375   70.595375   \n",
       "3       61.376453             61.376453             61.376453   61.376453   \n",
       "4       35.898936             35.898936             35.898936   35.898936   \n",
       "\n",
       "   weekly_lower  weekly_upper  multiplicative_terms  \\\n",
       "0   -120.231913   -120.231913                   0.0   \n",
       "1     89.040580     89.040580                   0.0   \n",
       "2     70.595375     70.595375                   0.0   \n",
       "3     61.376453     61.376453                   0.0   \n",
       "4     35.898936     35.898936                   0.0   \n",
       "\n",
       "   multiplicative_terms_lower  multiplicative_terms_upper        yhat  \n",
       "0                         0.0                         0.0  642.372298  \n",
       "1                         0.0                         0.0  898.041484  \n",
       "2                         0.0                         0.0  925.992973  \n",
       "3                         0.0                         0.0  963.170745  \n",
       "4                         0.0                         0.0  984.089923  "
      ]
     },
     "execution_count": 19,
     "metadata": {},
     "output_type": "execute_result"
    }
   ],
   "source": [
    "m = Prophet(interval_width=0.95,changepoint_prior_scale=1.5)\n",
    "model = m.fit(df_train)\n",
    "future = m.make_future_dataframe(periods=90,freq='D')\n",
    "forecast = m.predict(future)\n",
    "forecast.head()"
   ]
  },
  {
   "cell_type": "code",
   "execution_count": 20,
   "metadata": {
    "scrolled": true
   },
   "outputs": [
    {
     "data": {
      "image/png": "[encoded data removed]",
      "text/plain": [
       "<Figure size 720x432 with 1 Axes>"
      ]
     },
     "metadata": {},
     "output_type": "display_data"
    }
   ],
   "source": [
    "plot1 = m.plot(forecast)"
   ]
  },
  {
   "cell_type": "code",
   "execution_count": 21,
   "metadata": {},
   "outputs": [
    {
     "name": "stderr",
     "output_type": "stream",
     "text": [
      "INFO:fbprophet:Making 1 forecasts with cutoffs between 2021-03-25 00:00:00 and 2021-03-25 00:00:00\n"
     ]
    },
    {
     "data": {
      "application/vnd.jupyter.widget-view+json": {
       "model_id": "e2583e8c3d5b460e9e5dcc998ab1712f",
       "version_major": 2,
       "version_minor": 0
      },
      "text/plain": [
       "  0%|          | 0/1 [00:00<?, ?it/s]"
      ]
     },
     "metadata": {},
     "output_type": "display_data"
    },
    {
     "data": {
      "text/html": [
       "<div>\n",
       "<style scoped>\n",
       "    .dataframe tbody tr th:only-of-type {\n",
       "        vertical-align: middle;\n",
       "    }\n",
       "\n",
       "    .dataframe tbody tr th {\n",
       "        vertical-align: top;\n",
       "    }\n",
       "\n",
       "    .dataframe thead th {\n",
       "        text-align: right;\n",
       "    }\n",
       "</style>\n",
       "<table border=\"1\" class=\"dataframe\">\n",
       "  <thead>\n",
       "    <tr style=\"text-align: right;\">\n",
       "      <th></th>\n",
       "      <th>ds</th>\n",
       "      <th>yhat</th>\n",
       "      <th>yhat_lower</th>\n",
       "      <th>yhat_upper</th>\n",
       "      <th>y</th>\n",
       "      <th>cutoff</th>\n",
       "    </tr>\n",
       "  </thead>\n",
       "  <tbody>\n",
       "    <tr>\n",
       "      <th>0</th>\n",
       "      <td>2021-03-26</td>\n",
       "      <td>165.172948</td>\n",
       "      <td>-375.825913</td>\n",
       "      <td>696.569276</td>\n",
       "      <td>82.0</td>\n",
       "      <td>2021-03-25</td>\n",
       "    </tr>\n",
       "    <tr>\n",
       "      <th>1</th>\n",
       "      <td>2021-03-27</td>\n",
       "      <td>143.645915</td>\n",
       "      <td>-388.086610</td>\n",
       "      <td>663.913775</td>\n",
       "      <td>165.0</td>\n",
       "      <td>2021-03-25</td>\n",
       "    </tr>\n",
       "    <tr>\n",
       "      <th>2</th>\n",
       "      <td>2021-03-28</td>\n",
       "      <td>115.931312</td>\n",
       "      <td>-422.168394</td>\n",
       "      <td>633.365390</td>\n",
       "      <td>108.0</td>\n",
       "      <td>2021-03-25</td>\n",
       "    </tr>\n",
       "    <tr>\n",
       "      <th>3</th>\n",
       "      <td>2021-03-29</td>\n",
       "      <td>-14.746049</td>\n",
       "      <td>-565.198985</td>\n",
       "      <td>510.614515</td>\n",
       "      <td>103.0</td>\n",
       "      <td>2021-03-25</td>\n",
       "    </tr>\n",
       "    <tr>\n",
       "      <th>4</th>\n",
       "      <td>2021-03-30</td>\n",
       "      <td>-14.475169</td>\n",
       "      <td>-562.217429</td>\n",
       "      <td>525.645895</td>\n",
       "      <td>78.0</td>\n",
       "      <td>2021-03-25</td>\n",
       "    </tr>\n",
       "  </tbody>\n",
       "</table>\n",
       "</div>"
      ],
      "text/plain": [
       "          ds        yhat  yhat_lower  yhat_upper      y     cutoff\n",
       "0 2021-03-26  165.172948 -375.825913  696.569276   82.0 2021-03-25\n",
       "1 2021-03-27  143.645915 -388.086610  663.913775  165.0 2021-03-25\n",
       "2 2021-03-28  115.931312 -422.168394  633.365390  108.0 2021-03-25\n",
       "3 2021-03-29  -14.746049 -565.198985  510.614515  103.0 2021-03-25\n",
       "4 2021-03-30  -14.475169 -562.217429  525.645895   78.0 2021-03-25"
      ]
     },
     "execution_count": 21,
     "metadata": {},
     "output_type": "execute_result"
    }
   ],
   "source": [
    "#validation of prediction model\n",
    "from fbprophet.diagnostics import cross_validation\n",
    "df_cv = cross_validation(m, initial='100 days', period='15 days', horizon = '30 days')\n",
    "df_cv.head()"
   ]
  },
  {
   "cell_type": "code",
   "execution_count": 22,
   "metadata": {},
   "outputs": [
    {
     "data": {
      "image/png": "[encoded data removed]",
      "text/plain": [
       "<Figure size 720x432 with 1 Axes>"
      ]
     },
     "metadata": {},
     "output_type": "display_data"
    }
   ],
   "source": [
    "from fbprophet.plot import plot_cross_validation_metric\n",
    "fig = plot_cross_validation_metric(df_cv, metric='mape')"
   ]
  }
 ],
 "metadata": {
  "kernelspec": {
   "display_name": "Python 3",
   "language": "python",
   "name": "python3"
  },
  "language_info": {
   "codemirror_mode": {
    "name": "ipython",
    "version": 3
   },
   "file_extension": ".py",
   "mimetype": "text/x-python",
   "name": "python",
   "nbconvert_exporter": "python",
   "pygments_lexer": "ipython3",
   "version": "3.6.8"
  }
 },
 "nbformat": 4,
 "nbformat_minor": 4
}
