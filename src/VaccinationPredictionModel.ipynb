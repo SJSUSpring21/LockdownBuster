{
 "cells": [
  {
   "cell_type": "code",
   "execution_count": 1,
   "id": "079e2033",
   "metadata": {},
   "outputs": [
    {
     "name": "stderr",
     "output_type": "stream",
     "text": [
      "Importing plotly failed. Interactive plots will not work.\n"
     ]
    }
   ],
   "source": [
    "import pandas as pd\n",
    "from fbprophet import Prophet"
   ]
  },
  {
   "cell_type": "code",
   "execution_count": 2,
   "id": "ae80deb2",
   "metadata": {},
   "outputs": [],
   "source": [
    "df = pd.read_csv(\"../dataset/covid19vaccinesbycounty.csv\",usecols=[0,1,13])"
   ]
  },
  {
   "cell_type": "code",
   "execution_count": 49,
   "id": "f73dbe2c",
   "metadata": {},
   "outputs": [
    {
     "data": {
      "text/html": [
       "<div>\n",
       "<style scoped>\n",
       "    .dataframe tbody tr th:only-of-type {\n",
       "        vertical-align: middle;\n",
       "    }\n",
       "\n",
       "    .dataframe tbody tr th {\n",
       "        vertical-align: top;\n",
       "    }\n",
       "\n",
       "    .dataframe thead th {\n",
       "        text-align: right;\n",
       "    }\n",
       "</style>\n",
       "<table border=\"1\" class=\"dataframe\">\n",
       "  <thead>\n",
       "    <tr style=\"text-align: right;\">\n",
       "      <th></th>\n",
       "      <th>county</th>\n",
       "      <th>administered_date</th>\n",
       "      <th>cumulative_fully_vaccinated</th>\n",
       "    </tr>\n",
       "  </thead>\n",
       "  <tbody>\n",
       "    <tr>\n",
       "      <th>8005</th>\n",
       "      <td>Yuba</td>\n",
       "      <td>2021-04-23</td>\n",
       "      <td>13675</td>\n",
       "    </tr>\n",
       "    <tr>\n",
       "      <th>8006</th>\n",
       "      <td>Yuba</td>\n",
       "      <td>2021-04-24</td>\n",
       "      <td>13753</td>\n",
       "    </tr>\n",
       "    <tr>\n",
       "      <th>8007</th>\n",
       "      <td>Yuba</td>\n",
       "      <td>2021-04-25</td>\n",
       "      <td>13780</td>\n",
       "    </tr>\n",
       "    <tr>\n",
       "      <th>8008</th>\n",
       "      <td>Yuba</td>\n",
       "      <td>2021-04-26</td>\n",
       "      <td>13875</td>\n",
       "    </tr>\n",
       "    <tr>\n",
       "      <th>8009</th>\n",
       "      <td>Yuba</td>\n",
       "      <td>2021-04-27</td>\n",
       "      <td>13977</td>\n",
       "    </tr>\n",
       "  </tbody>\n",
       "</table>\n",
       "</div>"
      ],
      "text/plain": [
       "     county administered_date  cumulative_fully_vaccinated\n",
       "8005   Yuba        2021-04-23                        13675\n",
       "8006   Yuba        2021-04-24                        13753\n",
       "8007   Yuba        2021-04-25                        13780\n",
       "8008   Yuba        2021-04-26                        13875\n",
       "8009   Yuba        2021-04-27                        13977"
      ]
     },
     "execution_count": 49,
     "metadata": {},
     "output_type": "execute_result"
    }
   ],
   "source": [
    "df.tail()"
   ]
  },
  {
   "cell_type": "code",
   "execution_count": 9,
   "id": "f486b356",
   "metadata": {},
   "outputs": [
    {
     "data": {
      "text/html": [
       "<div>\n",
       "<style scoped>\n",
       "    .dataframe tbody tr th:only-of-type {\n",
       "        vertical-align: middle;\n",
       "    }\n",
       "\n",
       "    .dataframe tbody tr th {\n",
       "        vertical-align: top;\n",
       "    }\n",
       "\n",
       "    .dataframe thead th {\n",
       "        text-align: right;\n",
       "    }\n",
       "</style>\n",
       "<table border=\"1\" class=\"dataframe\">\n",
       "  <thead>\n",
       "    <tr style=\"text-align: right;\">\n",
       "      <th></th>\n",
       "      <th>cumulative_fully_vaccinated</th>\n",
       "    </tr>\n",
       "  </thead>\n",
       "  <tbody>\n",
       "    <tr>\n",
       "      <th>count</th>\n",
       "      <td>8.010000e+03</td>\n",
       "    </tr>\n",
       "    <tr>\n",
       "      <th>mean</th>\n",
       "      <td>1.780937e+05</td>\n",
       "    </tr>\n",
       "    <tr>\n",
       "      <th>std</th>\n",
       "      <td>9.421768e+05</td>\n",
       "    </tr>\n",
       "    <tr>\n",
       "      <th>min</th>\n",
       "      <td>0.000000e+00</td>\n",
       "    </tr>\n",
       "    <tr>\n",
       "      <th>25%</th>\n",
       "      <td>5.770000e+02</td>\n",
       "    </tr>\n",
       "    <tr>\n",
       "      <th>50%</th>\n",
       "      <td>6.355500e+03</td>\n",
       "    </tr>\n",
       "    <tr>\n",
       "      <th>75%</th>\n",
       "      <td>4.457450e+04</td>\n",
       "    </tr>\n",
       "    <tr>\n",
       "      <th>max</th>\n",
       "      <td>1.196178e+07</td>\n",
       "    </tr>\n",
       "  </tbody>\n",
       "</table>\n",
       "</div>"
      ],
      "text/plain": [
       "       cumulative_fully_vaccinated\n",
       "count                 8.010000e+03\n",
       "mean                  1.780937e+05\n",
       "std                   9.421768e+05\n",
       "min                   0.000000e+00\n",
       "25%                   5.770000e+02\n",
       "50%                   6.355500e+03\n",
       "75%                   4.457450e+04\n",
       "max                   1.196178e+07"
      ]
     },
     "execution_count": 9,
     "metadata": {},
     "output_type": "execute_result"
    }
   ],
   "source": [
    "df.describe()"
   ]
  },
  {
   "cell_type": "code",
   "execution_count": 3,
   "id": "06d63268",
   "metadata": {},
   "outputs": [
    {
     "data": {
      "text/plain": [
       "county                                 object\n",
       "administered_date              datetime64[ns]\n",
       "cumulative_fully_vaccinated             int64\n",
       "dtype: object"
      ]
     },
     "execution_count": 3,
     "metadata": {},
     "output_type": "execute_result"
    }
   ],
   "source": [
    "df['administered_date'] = pd.DatetimeIndex(df['administered_date'])\n",
    "df.dtypes"
   ]
  },
  {
   "cell_type": "code",
   "execution_count": 4,
   "id": "d1458a57",
   "metadata": {},
   "outputs": [
    {
     "data": {
      "text/html": [
       "<div>\n",
       "<style scoped>\n",
       "    .dataframe tbody tr th:only-of-type {\n",
       "        vertical-align: middle;\n",
       "    }\n",
       "\n",
       "    .dataframe tbody tr th {\n",
       "        vertical-align: top;\n",
       "    }\n",
       "\n",
       "    .dataframe thead th {\n",
       "        text-align: right;\n",
       "    }\n",
       "</style>\n",
       "<table border=\"1\" class=\"dataframe\">\n",
       "  <thead>\n",
       "    <tr style=\"text-align: right;\">\n",
       "      <th></th>\n",
       "      <th>administered_date</th>\n",
       "      <th>cumulative_fully_vaccinated</th>\n",
       "    </tr>\n",
       "  </thead>\n",
       "  <tbody>\n",
       "    <tr>\n",
       "      <th>5949</th>\n",
       "      <td>2020-12-15</td>\n",
       "      <td>0</td>\n",
       "    </tr>\n",
       "    <tr>\n",
       "      <th>5950</th>\n",
       "      <td>2020-12-16</td>\n",
       "      <td>0</td>\n",
       "    </tr>\n",
       "    <tr>\n",
       "      <th>5951</th>\n",
       "      <td>2020-12-17</td>\n",
       "      <td>0</td>\n",
       "    </tr>\n",
       "    <tr>\n",
       "      <th>5952</th>\n",
       "      <td>2020-12-18</td>\n",
       "      <td>0</td>\n",
       "    </tr>\n",
       "    <tr>\n",
       "      <th>5953</th>\n",
       "      <td>2020-12-19</td>\n",
       "      <td>0</td>\n",
       "    </tr>\n",
       "    <tr>\n",
       "      <th>5954</th>\n",
       "      <td>2020-12-20</td>\n",
       "      <td>0</td>\n",
       "    </tr>\n",
       "    <tr>\n",
       "      <th>5955</th>\n",
       "      <td>2020-12-21</td>\n",
       "      <td>0</td>\n",
       "    </tr>\n",
       "  </tbody>\n",
       "</table>\n",
       "</div>"
      ],
      "text/plain": [
       "     administered_date  cumulative_fully_vaccinated\n",
       "5949        2020-12-15                            0\n",
       "5950        2020-12-16                            0\n",
       "5951        2020-12-17                            0\n",
       "5952        2020-12-18                            0\n",
       "5953        2020-12-19                            0\n",
       "5954        2020-12-20                            0\n",
       "5955        2020-12-21                            0"
      ]
     },
     "execution_count": 4,
     "metadata": {},
     "output_type": "execute_result"
    }
   ],
   "source": [
    "#Getting the county wise data\n",
    "import datetime\n",
    "df = df.loc[(df[\"county\"] == \"Santa Clara\")]\n",
    "del df['county']\n",
    "df.head(7)"
   ]
  },
  {
   "cell_type": "code",
   "execution_count": 5,
   "id": "c1a5fdfa",
   "metadata": {},
   "outputs": [
    {
     "data": {
      "text/html": [
       "<div>\n",
       "<style scoped>\n",
       "    .dataframe tbody tr th:only-of-type {\n",
       "        vertical-align: middle;\n",
       "    }\n",
       "\n",
       "    .dataframe tbody tr th {\n",
       "        vertical-align: top;\n",
       "    }\n",
       "\n",
       "    .dataframe thead th {\n",
       "        text-align: right;\n",
       "    }\n",
       "</style>\n",
       "<table border=\"1\" class=\"dataframe\">\n",
       "  <thead>\n",
       "    <tr style=\"text-align: right;\">\n",
       "      <th></th>\n",
       "      <th>administered_date</th>\n",
       "      <th>cumulative_fully_vaccinated</th>\n",
       "    </tr>\n",
       "  </thead>\n",
       "  <tbody>\n",
       "    <tr>\n",
       "      <th>6082</th>\n",
       "      <td>2021-04-27</td>\n",
       "      <td>627843</td>\n",
       "    </tr>\n",
       "    <tr>\n",
       "      <th>6081</th>\n",
       "      <td>2021-04-26</td>\n",
       "      <td>622321</td>\n",
       "    </tr>\n",
       "    <tr>\n",
       "      <th>6080</th>\n",
       "      <td>2021-04-25</td>\n",
       "      <td>615467</td>\n",
       "    </tr>\n",
       "    <tr>\n",
       "      <th>6079</th>\n",
       "      <td>2021-04-24</td>\n",
       "      <td>611860</td>\n",
       "    </tr>\n",
       "    <tr>\n",
       "      <th>6078</th>\n",
       "      <td>2021-04-23</td>\n",
       "      <td>605686</td>\n",
       "    </tr>\n",
       "  </tbody>\n",
       "</table>\n",
       "</div>"
      ],
      "text/plain": [
       "     administered_date  cumulative_fully_vaccinated\n",
       "6082        2021-04-27                       627843\n",
       "6081        2021-04-26                       622321\n",
       "6080        2021-04-25                       615467\n",
       "6079        2021-04-24                       611860\n",
       "6078        2021-04-23                       605686"
      ]
     },
     "execution_count": 5,
     "metadata": {},
     "output_type": "execute_result"
    }
   ],
   "source": [
    "#preprocessing\n",
    "df = df.iloc[::-1]\n",
    "df.head()"
   ]
  },
  {
   "cell_type": "code",
   "execution_count": 54,
   "id": "efc08287",
   "metadata": {},
   "outputs": [
    {
     "data": {
      "text/html": [
       "<div>\n",
       "<style scoped>\n",
       "    .dataframe tbody tr th:only-of-type {\n",
       "        vertical-align: middle;\n",
       "    }\n",
       "\n",
       "    .dataframe tbody tr th {\n",
       "        vertical-align: top;\n",
       "    }\n",
       "\n",
       "    .dataframe thead th {\n",
       "        text-align: right;\n",
       "    }\n",
       "</style>\n",
       "<table border=\"1\" class=\"dataframe\">\n",
       "  <thead>\n",
       "    <tr style=\"text-align: right;\">\n",
       "      <th></th>\n",
       "      <th>administered_date</th>\n",
       "      <th>cumulative_fully_vaccinated</th>\n",
       "    </tr>\n",
       "  </thead>\n",
       "  <tbody>\n",
       "    <tr>\n",
       "      <th>5953</th>\n",
       "      <td>2020-12-19</td>\n",
       "      <td>0</td>\n",
       "    </tr>\n",
       "    <tr>\n",
       "      <th>5952</th>\n",
       "      <td>2020-12-18</td>\n",
       "      <td>0</td>\n",
       "    </tr>\n",
       "    <tr>\n",
       "      <th>5951</th>\n",
       "      <td>2020-12-17</td>\n",
       "      <td>0</td>\n",
       "    </tr>\n",
       "    <tr>\n",
       "      <th>5950</th>\n",
       "      <td>2020-12-16</td>\n",
       "      <td>0</td>\n",
       "    </tr>\n",
       "    <tr>\n",
       "      <th>5949</th>\n",
       "      <td>2020-12-15</td>\n",
       "      <td>0</td>\n",
       "    </tr>\n",
       "  </tbody>\n",
       "</table>\n",
       "</div>"
      ],
      "text/plain": [
       "     administered_date  cumulative_fully_vaccinated\n",
       "5953        2020-12-19                            0\n",
       "5952        2020-12-18                            0\n",
       "5951        2020-12-17                            0\n",
       "5950        2020-12-16                            0\n",
       "5949        2020-12-15                            0"
      ]
     },
     "execution_count": 54,
     "metadata": {},
     "output_type": "execute_result"
    }
   ],
   "source": [
    "df.tail()"
   ]
  },
  {
   "cell_type": "code",
   "execution_count": 6,
   "id": "85bbad6f",
   "metadata": {},
   "outputs": [],
   "source": [
    "#setting the date time index on date column\n",
    "df['ds'] = pd.DatetimeIndex(df['administered_date'])\n",
    "df.drop('administered_date', axis=1, inplace=True)\n",
    "df_train = df[0:]"
   ]
  },
  {
   "cell_type": "code",
   "execution_count": 7,
   "id": "6d4e5630",
   "metadata": {},
   "outputs": [
    {
     "data": {
      "text/html": [
       "<div>\n",
       "<style scoped>\n",
       "    .dataframe tbody tr th:only-of-type {\n",
       "        vertical-align: middle;\n",
       "    }\n",
       "\n",
       "    .dataframe tbody tr th {\n",
       "        vertical-align: top;\n",
       "    }\n",
       "\n",
       "    .dataframe thead th {\n",
       "        text-align: right;\n",
       "    }\n",
       "</style>\n",
       "<table border=\"1\" class=\"dataframe\">\n",
       "  <thead>\n",
       "    <tr style=\"text-align: right;\">\n",
       "      <th></th>\n",
       "      <th>y</th>\n",
       "      <th>ds</th>\n",
       "    </tr>\n",
       "  </thead>\n",
       "  <tbody>\n",
       "    <tr>\n",
       "      <th>5953</th>\n",
       "      <td>0</td>\n",
       "      <td>2020-12-19</td>\n",
       "    </tr>\n",
       "    <tr>\n",
       "      <th>5952</th>\n",
       "      <td>0</td>\n",
       "      <td>2020-12-18</td>\n",
       "    </tr>\n",
       "    <tr>\n",
       "      <th>5951</th>\n",
       "      <td>0</td>\n",
       "      <td>2020-12-17</td>\n",
       "    </tr>\n",
       "    <tr>\n",
       "      <th>5950</th>\n",
       "      <td>0</td>\n",
       "      <td>2020-12-16</td>\n",
       "    </tr>\n",
       "    <tr>\n",
       "      <th>5949</th>\n",
       "      <td>0</td>\n",
       "      <td>2020-12-15</td>\n",
       "    </tr>\n",
       "  </tbody>\n",
       "</table>\n",
       "</div>"
      ],
      "text/plain": [
       "      y         ds\n",
       "5953  0 2020-12-19\n",
       "5952  0 2020-12-18\n",
       "5951  0 2020-12-17\n",
       "5950  0 2020-12-16\n",
       "5949  0 2020-12-15"
      ]
     },
     "execution_count": 7,
     "metadata": {},
     "output_type": "execute_result"
    }
   ],
   "source": [
    "#renaming the columns as required by the prophet\n",
    "df_train.columns = ['y','ds']\n",
    "df_train.tail()"
   ]
  },
  {
   "cell_type": "code",
   "execution_count": 20,
   "id": "32bcc2a9",
   "metadata": {},
   "outputs": [
    {
     "name": "stderr",
     "output_type": "stream",
     "text": [
      "INFO:fbprophet:Disabling yearly seasonality. Run prophet with yearly_seasonality=True to override this.\n",
      "INFO:fbprophet:Disabling daily seasonality. Run prophet with daily_seasonality=True to override this.\n"
     ]
    },
    {
     "data": {
      "text/html": [
       "<div>\n",
       "<style scoped>\n",
       "    .dataframe tbody tr th:only-of-type {\n",
       "        vertical-align: middle;\n",
       "    }\n",
       "\n",
       "    .dataframe tbody tr th {\n",
       "        vertical-align: top;\n",
       "    }\n",
       "\n",
       "    .dataframe thead th {\n",
       "        text-align: right;\n",
       "    }\n",
       "</style>\n",
       "<table border=\"1\" class=\"dataframe\">\n",
       "  <thead>\n",
       "    <tr style=\"text-align: right;\">\n",
       "      <th></th>\n",
       "      <th>ds</th>\n",
       "      <th>trend</th>\n",
       "      <th>yhat_lower</th>\n",
       "      <th>yhat_upper</th>\n",
       "      <th>trend_lower</th>\n",
       "      <th>trend_upper</th>\n",
       "      <th>additive_terms</th>\n",
       "      <th>additive_terms_lower</th>\n",
       "      <th>additive_terms_upper</th>\n",
       "      <th>weekly</th>\n",
       "      <th>weekly_lower</th>\n",
       "      <th>weekly_upper</th>\n",
       "      <th>multiplicative_terms</th>\n",
       "      <th>multiplicative_terms_lower</th>\n",
       "      <th>multiplicative_terms_upper</th>\n",
       "      <th>yhat</th>\n",
       "    </tr>\n",
       "  </thead>\n",
       "  <tbody>\n",
       "    <tr>\n",
       "      <th>0</th>\n",
       "      <td>2020-12-15</td>\n",
       "      <td>-160.017301</td>\n",
       "      <td>-6287.400148</td>\n",
       "      <td>3373.250459</td>\n",
       "      <td>-160.017301</td>\n",
       "      <td>-160.017301</td>\n",
       "      <td>-1255.241331</td>\n",
       "      <td>-1255.241331</td>\n",
       "      <td>-1255.241331</td>\n",
       "      <td>-1255.241331</td>\n",
       "      <td>-1255.241331</td>\n",
       "      <td>-1255.241331</td>\n",
       "      <td>0.0</td>\n",
       "      <td>0.0</td>\n",
       "      <td>0.0</td>\n",
       "      <td>-1415.258632</td>\n",
       "    </tr>\n",
       "    <tr>\n",
       "      <th>1</th>\n",
       "      <td>2020-12-16</td>\n",
       "      <td>-165.633029</td>\n",
       "      <td>-5072.283700</td>\n",
       "      <td>4320.483831</td>\n",
       "      <td>-165.633029</td>\n",
       "      <td>-165.633029</td>\n",
       "      <td>-226.767174</td>\n",
       "      <td>-226.767174</td>\n",
       "      <td>-226.767174</td>\n",
       "      <td>-226.767174</td>\n",
       "      <td>-226.767174</td>\n",
       "      <td>-226.767174</td>\n",
       "      <td>0.0</td>\n",
       "      <td>0.0</td>\n",
       "      <td>0.0</td>\n",
       "      <td>-392.400203</td>\n",
       "    </tr>\n",
       "    <tr>\n",
       "      <th>2</th>\n",
       "      <td>2020-12-17</td>\n",
       "      <td>-171.248758</td>\n",
       "      <td>-3684.646081</td>\n",
       "      <td>5882.106473</td>\n",
       "      <td>-171.248758</td>\n",
       "      <td>-171.248758</td>\n",
       "      <td>1128.742573</td>\n",
       "      <td>1128.742573</td>\n",
       "      <td>1128.742573</td>\n",
       "      <td>1128.742573</td>\n",
       "      <td>1128.742573</td>\n",
       "      <td>1128.742573</td>\n",
       "      <td>0.0</td>\n",
       "      <td>0.0</td>\n",
       "      <td>0.0</td>\n",
       "      <td>957.493815</td>\n",
       "    </tr>\n",
       "    <tr>\n",
       "      <th>3</th>\n",
       "      <td>2020-12-18</td>\n",
       "      <td>-176.864486</td>\n",
       "      <td>-2373.581466</td>\n",
       "      <td>6964.248219</td>\n",
       "      <td>-176.864486</td>\n",
       "      <td>-176.864486</td>\n",
       "      <td>2427.798125</td>\n",
       "      <td>2427.798125</td>\n",
       "      <td>2427.798125</td>\n",
       "      <td>2427.798125</td>\n",
       "      <td>2427.798125</td>\n",
       "      <td>2427.798125</td>\n",
       "      <td>0.0</td>\n",
       "      <td>0.0</td>\n",
       "      <td>0.0</td>\n",
       "      <td>2250.933639</td>\n",
       "    </tr>\n",
       "    <tr>\n",
       "      <th>4</th>\n",
       "      <td>2020-12-19</td>\n",
       "      <td>-182.480214</td>\n",
       "      <td>-3920.490939</td>\n",
       "      <td>5786.924564</td>\n",
       "      <td>-182.480214</td>\n",
       "      <td>-182.480214</td>\n",
       "      <td>1095.670799</td>\n",
       "      <td>1095.670799</td>\n",
       "      <td>1095.670799</td>\n",
       "      <td>1095.670799</td>\n",
       "      <td>1095.670799</td>\n",
       "      <td>1095.670799</td>\n",
       "      <td>0.0</td>\n",
       "      <td>0.0</td>\n",
       "      <td>0.0</td>\n",
       "      <td>913.190585</td>\n",
       "    </tr>\n",
       "  </tbody>\n",
       "</table>\n",
       "</div>"
      ],
      "text/plain": [
       "          ds       trend   yhat_lower   yhat_upper  trend_lower  trend_upper  \\\n",
       "0 2020-12-15 -160.017301 -6287.400148  3373.250459  -160.017301  -160.017301   \n",
       "1 2020-12-16 -165.633029 -5072.283700  4320.483831  -165.633029  -165.633029   \n",
       "2 2020-12-17 -171.248758 -3684.646081  5882.106473  -171.248758  -171.248758   \n",
       "3 2020-12-18 -176.864486 -2373.581466  6964.248219  -176.864486  -176.864486   \n",
       "4 2020-12-19 -182.480214 -3920.490939  5786.924564  -182.480214  -182.480214   \n",
       "\n",
       "   additive_terms  additive_terms_lower  additive_terms_upper       weekly  \\\n",
       "0    -1255.241331          -1255.241331          -1255.241331 -1255.241331   \n",
       "1     -226.767174           -226.767174           -226.767174  -226.767174   \n",
       "2     1128.742573           1128.742573           1128.742573  1128.742573   \n",
       "3     2427.798125           2427.798125           2427.798125  2427.798125   \n",
       "4     1095.670799           1095.670799           1095.670799  1095.670799   \n",
       "\n",
       "   weekly_lower  weekly_upper  multiplicative_terms  \\\n",
       "0  -1255.241331  -1255.241331                   0.0   \n",
       "1   -226.767174   -226.767174                   0.0   \n",
       "2   1128.742573   1128.742573                   0.0   \n",
       "3   2427.798125   2427.798125                   0.0   \n",
       "4   1095.670799   1095.670799                   0.0   \n",
       "\n",
       "   multiplicative_terms_lower  multiplicative_terms_upper         yhat  \n",
       "0                         0.0                         0.0 -1415.258632  \n",
       "1                         0.0                         0.0  -392.400203  \n",
       "2                         0.0                         0.0   957.493815  \n",
       "3                         0.0                         0.0  2250.933639  \n",
       "4                         0.0                         0.0   913.190585  "
      ]
     },
     "execution_count": 20,
     "metadata": {},
     "output_type": "execute_result"
    }
   ],
   "source": [
    "m = Prophet(interval_width=0.95)\n",
    "model = m.fit(df_train)\n",
    "future = m.make_future_dataframe(periods=180,freq='D')\n",
    "forecast = m.predict(future)\n",
    "forecast.head()"
   ]
  },
  {
   "cell_type": "code",
   "execution_count": 24,
   "id": "3690eafe",
   "metadata": {
    "scrolled": true
   },
   "outputs": [
    {
     "data": {
      "image/png": "[encoded data removed]",
      "text/plain": [
       "<Figure size 720x432 with 1 Axes>"
      ]
     },
     "metadata": {},
     "output_type": "display_data"
    }
   ],
   "source": [
    "plot1 = m.plot(forecast)"
   ]
  },
  {
   "cell_type": "code",
   "execution_count": 25,
   "id": "9e6eb6a4",
   "metadata": {},
   "outputs": [
    {
     "data": {
      "image/png": "[encoded data removed]",
      "text/plain": [
       "<Figure size 720x432 with 1 Axes>"
      ]
     },
     "metadata": {},
     "output_type": "display_data"
    }
   ],
   "source": [
    "from fbprophet.plot import add_changepoints_to_plot\n",
    "fig = m.plot(forecast)\n",
    "a = add_changepoints_to_plot(fig.gca(), m, forecast)"
   ]
  },
  {
   "cell_type": "code",
   "execution_count": 71,
   "id": "68e72ec4",
   "metadata": {},
   "outputs": [
    {
     "data": {
      "image/png": "[encoded data removed]",
      "text/plain": [
       "<Figure size 648x432 with 2 Axes>"
      ]
     },
     "metadata": {},
     "output_type": "display_data"
    }
   ],
   "source": [
    "plt2 = m.plot_components(forecast)"
   ]
  },
  {
   "cell_type": "code",
   "execution_count": 26,
   "id": "04961db6",
   "metadata": {},
   "outputs": [
    {
     "data": {
      "text/html": [
       "<div>\n",
       "<style scoped>\n",
       "    .dataframe tbody tr th:only-of-type {\n",
       "        vertical-align: middle;\n",
       "    }\n",
       "\n",
       "    .dataframe tbody tr th {\n",
       "        vertical-align: top;\n",
       "    }\n",
       "\n",
       "    .dataframe thead th {\n",
       "        text-align: right;\n",
       "    }\n",
       "</style>\n",
       "<table border=\"1\" class=\"dataframe\">\n",
       "  <thead>\n",
       "    <tr style=\"text-align: right;\">\n",
       "      <th></th>\n",
       "      <th>ds</th>\n",
       "      <th>yhat</th>\n",
       "    </tr>\n",
       "  </thead>\n",
       "  <tbody>\n",
       "    <tr>\n",
       "      <th>0</th>\n",
       "      <td>2020-12-15</td>\n",
       "      <td>-1.415259e+03</td>\n",
       "    </tr>\n",
       "    <tr>\n",
       "      <th>1</th>\n",
       "      <td>2020-12-16</td>\n",
       "      <td>-3.924002e+02</td>\n",
       "    </tr>\n",
       "    <tr>\n",
       "      <th>2</th>\n",
       "      <td>2020-12-17</td>\n",
       "      <td>9.574938e+02</td>\n",
       "    </tr>\n",
       "    <tr>\n",
       "      <th>3</th>\n",
       "      <td>2020-12-18</td>\n",
       "      <td>2.250934e+03</td>\n",
       "    </tr>\n",
       "    <tr>\n",
       "      <th>4</th>\n",
       "      <td>2020-12-19</td>\n",
       "      <td>9.131906e+02</td>\n",
       "    </tr>\n",
       "    <tr>\n",
       "      <th>...</th>\n",
       "      <td>...</td>\n",
       "      <td>...</td>\n",
       "    </tr>\n",
       "    <tr>\n",
       "      <th>309</th>\n",
       "      <td>2021-10-20</td>\n",
       "      <td>2.357305e+06</td>\n",
       "    </tr>\n",
       "    <tr>\n",
       "      <th>310</th>\n",
       "      <td>2021-10-21</td>\n",
       "      <td>2.368464e+06</td>\n",
       "    </tr>\n",
       "    <tr>\n",
       "      <th>311</th>\n",
       "      <td>2021-10-22</td>\n",
       "      <td>2.379566e+06</td>\n",
       "    </tr>\n",
       "    <tr>\n",
       "      <th>312</th>\n",
       "      <td>2021-10-23</td>\n",
       "      <td>2.388038e+06</td>\n",
       "    </tr>\n",
       "    <tr>\n",
       "      <th>313</th>\n",
       "      <td>2021-10-24</td>\n",
       "      <td>2.395340e+06</td>\n",
       "    </tr>\n",
       "  </tbody>\n",
       "</table>\n",
       "<p>314 rows × 2 columns</p>\n",
       "</div>"
      ],
      "text/plain": [
       "            ds          yhat\n",
       "0   2020-12-15 -1.415259e+03\n",
       "1   2020-12-16 -3.924002e+02\n",
       "2   2020-12-17  9.574938e+02\n",
       "3   2020-12-18  2.250934e+03\n",
       "4   2020-12-19  9.131906e+02\n",
       "..         ...           ...\n",
       "309 2021-10-20  2.357305e+06\n",
       "310 2021-10-21  2.368464e+06\n",
       "311 2021-10-22  2.379566e+06\n",
       "312 2021-10-23  2.388038e+06\n",
       "313 2021-10-24  2.395340e+06\n",
       "\n",
       "[314 rows x 2 columns]"
      ]
     },
     "execution_count": 26,
     "metadata": {},
     "output_type": "execute_result"
    }
   ],
   "source": [
    "vp = forecast[['ds','yhat']]\n",
    "vp"
   ]
  },
  {
   "cell_type": "code",
   "execution_count": 73,
   "id": "34027994",
   "metadata": {},
   "outputs": [
    {
     "data": {
      "text/plain": [
       "Timestamp('2021-09-10 00:00:00')"
      ]
     },
     "execution_count": 73,
     "metadata": {},
     "output_type": "execute_result"
    }
   ],
   "source": [
    "population = 1967585.0\n",
    "date_op = \"2021-07-19\"\n",
    "for index, row in vp.iterrows():\n",
    "    if(row['yhat'] > population):\n",
    "        date_op = row['ds']\n",
    "        break;\n",
    "date_op"
   ]
  },
  {
   "cell_type": "code",
   "execution_count": 21,
   "id": "eb212acb",
   "metadata": {},
   "outputs": [
    {
     "name": "stderr",
     "output_type": "stream",
     "text": [
      "INFO:fbprophet:Making 1 forecasts with cutoffs between 2021-03-28 00:00:00 and 2021-03-28 00:00:00\n"
     ]
    },
    {
     "data": {
      "application/vnd.jupyter.widget-view+json": {
       "model_id": "4d79a763373b4f01a3a351818ed5a5e0",
       "version_major": 2,
       "version_minor": 0
      },
      "text/plain": [
       "  0%|          | 0/1 [00:00<?, ?it/s]"
      ]
     },
     "metadata": {},
     "output_type": "display_data"
    },
    {
     "data": {
      "text/html": [
       "<div>\n",
       "<style scoped>\n",
       "    .dataframe tbody tr th:only-of-type {\n",
       "        vertical-align: middle;\n",
       "    }\n",
       "\n",
       "    .dataframe tbody tr th {\n",
       "        vertical-align: top;\n",
       "    }\n",
       "\n",
       "    .dataframe thead th {\n",
       "        text-align: right;\n",
       "    }\n",
       "</style>\n",
       "<table border=\"1\" class=\"dataframe\">\n",
       "  <thead>\n",
       "    <tr style=\"text-align: right;\">\n",
       "      <th></th>\n",
       "      <th>ds</th>\n",
       "      <th>yhat</th>\n",
       "      <th>yhat_lower</th>\n",
       "      <th>yhat_upper</th>\n",
       "      <th>y</th>\n",
       "      <th>cutoff</th>\n",
       "    </tr>\n",
       "  </thead>\n",
       "  <tbody>\n",
       "    <tr>\n",
       "      <th>0</th>\n",
       "      <td>2021-03-29</td>\n",
       "      <td>353032.789759</td>\n",
       "      <td>350234.501242</td>\n",
       "      <td>355725.243941</td>\n",
       "      <td>354193</td>\n",
       "      <td>2021-03-28</td>\n",
       "    </tr>\n",
       "    <tr>\n",
       "      <th>1</th>\n",
       "      <td>2021-03-30</td>\n",
       "      <td>361066.138927</td>\n",
       "      <td>358238.474457</td>\n",
       "      <td>363430.264279</td>\n",
       "      <td>363327</td>\n",
       "      <td>2021-03-28</td>\n",
       "    </tr>\n",
       "    <tr>\n",
       "      <th>2</th>\n",
       "      <td>2021-03-31</td>\n",
       "      <td>369183.392494</td>\n",
       "      <td>366194.564119</td>\n",
       "      <td>371751.215853</td>\n",
       "      <td>371022</td>\n",
       "      <td>2021-03-28</td>\n",
       "    </tr>\n",
       "    <tr>\n",
       "      <th>3</th>\n",
       "      <td>2021-04-01</td>\n",
       "      <td>377502.844555</td>\n",
       "      <td>374147.196038</td>\n",
       "      <td>380744.393854</td>\n",
       "      <td>382514</td>\n",
       "      <td>2021-03-28</td>\n",
       "    </tr>\n",
       "    <tr>\n",
       "      <th>4</th>\n",
       "      <td>2021-04-02</td>\n",
       "      <td>385993.556473</td>\n",
       "      <td>382214.660991</td>\n",
       "      <td>389257.245060</td>\n",
       "      <td>391116</td>\n",
       "      <td>2021-03-28</td>\n",
       "    </tr>\n",
       "  </tbody>\n",
       "</table>\n",
       "</div>"
      ],
      "text/plain": [
       "          ds           yhat     yhat_lower     yhat_upper       y     cutoff\n",
       "0 2021-03-29  353032.789759  350234.501242  355725.243941  354193 2021-03-28\n",
       "1 2021-03-30  361066.138927  358238.474457  363430.264279  363327 2021-03-28\n",
       "2 2021-03-31  369183.392494  366194.564119  371751.215853  371022 2021-03-28\n",
       "3 2021-04-01  377502.844555  374147.196038  380744.393854  382514 2021-03-28\n",
       "4 2021-04-02  385993.556473  382214.660991  389257.245060  391116 2021-03-28"
      ]
     },
     "execution_count": 21,
     "metadata": {},
     "output_type": "execute_result"
    }
   ],
   "source": [
    "#validation of prediction model\n",
    "from fbprophet.diagnostics import cross_validation\n",
    "df_cv = cross_validation(m, initial='100 days', period='15 days', horizon = '30 days')\n",
    "df_cv.head()"
   ]
  },
  {
   "cell_type": "code",
   "execution_count": 22,
   "id": "708e410f",
   "metadata": {},
   "outputs": [
    {
     "data": {
      "text/html": [
       "<div>\n",
       "<style scoped>\n",
       "    .dataframe tbody tr th:only-of-type {\n",
       "        vertical-align: middle;\n",
       "    }\n",
       "\n",
       "    .dataframe tbody tr th {\n",
       "        vertical-align: top;\n",
       "    }\n",
       "\n",
       "    .dataframe thead th {\n",
       "        text-align: right;\n",
       "    }\n",
       "</style>\n",
       "<table border=\"1\" class=\"dataframe\">\n",
       "  <thead>\n",
       "    <tr style=\"text-align: right;\">\n",
       "      <th></th>\n",
       "      <th>horizon</th>\n",
       "      <th>mse</th>\n",
       "      <th>rmse</th>\n",
       "      <th>mae</th>\n",
       "      <th>mape</th>\n",
       "      <th>mdape</th>\n",
       "      <th>coverage</th>\n",
       "    </tr>\n",
       "  </thead>\n",
       "  <tbody>\n",
       "    <tr>\n",
       "      <th>0</th>\n",
       "      <td>3 days</td>\n",
       "      <td>3.279353e+06</td>\n",
       "      <td>1810.898318</td>\n",
       "      <td>1753.226273</td>\n",
       "      <td>0.004818</td>\n",
       "      <td>0.004956</td>\n",
       "      <td>1.000000</td>\n",
       "    </tr>\n",
       "    <tr>\n",
       "      <th>1</th>\n",
       "      <td>4 days</td>\n",
       "      <td>1.120122e+07</td>\n",
       "      <td>3346.821838</td>\n",
       "      <td>3036.874675</td>\n",
       "      <td>0.008093</td>\n",
       "      <td>0.006223</td>\n",
       "      <td>0.666667</td>\n",
       "    </tr>\n",
       "    <tr>\n",
       "      <th>2</th>\n",
       "      <td>5 days</td>\n",
       "      <td>1.824386e+07</td>\n",
       "      <td>4271.283341</td>\n",
       "      <td>3990.735493</td>\n",
       "      <td>0.010384</td>\n",
       "      <td>0.013097</td>\n",
       "      <td>0.333333</td>\n",
       "    </tr>\n",
       "    <tr>\n",
       "      <th>3</th>\n",
       "      <td>6 days</td>\n",
       "      <td>2.685675e+07</td>\n",
       "      <td>5182.349619</td>\n",
       "      <td>5179.690589</td>\n",
       "      <td>0.013262</td>\n",
       "      <td>0.013101</td>\n",
       "      <td>0.000000</td>\n",
       "    </tr>\n",
       "    <tr>\n",
       "      <th>4</th>\n",
       "      <td>7 days</td>\n",
       "      <td>2.246139e+07</td>\n",
       "      <td>4739.344727</td>\n",
       "      <td>4660.420914</td>\n",
       "      <td>0.011763</td>\n",
       "      <td>0.013097</td>\n",
       "      <td>0.333333</td>\n",
       "    </tr>\n",
       "  </tbody>\n",
       "</table>\n",
       "</div>"
      ],
      "text/plain": [
       "  horizon           mse         rmse          mae      mape     mdape  \\\n",
       "0  3 days  3.279353e+06  1810.898318  1753.226273  0.004818  0.004956   \n",
       "1  4 days  1.120122e+07  3346.821838  3036.874675  0.008093  0.006223   \n",
       "2  5 days  1.824386e+07  4271.283341  3990.735493  0.010384  0.013097   \n",
       "3  6 days  2.685675e+07  5182.349619  5179.690589  0.013262  0.013101   \n",
       "4  7 days  2.246139e+07  4739.344727  4660.420914  0.011763  0.013097   \n",
       "\n",
       "   coverage  \n",
       "0  1.000000  \n",
       "1  0.666667  \n",
       "2  0.333333  \n",
       "3  0.000000  \n",
       "4  0.333333  "
      ]
     },
     "execution_count": 22,
     "metadata": {},
     "output_type": "execute_result"
    }
   ],
   "source": [
    "from fbprophet.diagnostics import performance_metrics\n",
    "df_p = performance_metrics(df_cv)\n",
    "df_p.head()"
   ]
  },
  {
   "cell_type": "code",
   "execution_count": 23,
   "id": "679eb074",
   "metadata": {},
   "outputs": [
    {
     "data": {
      "image/png": "[encoded data removed]",
      "text/plain": [
       "<Figure size 720x432 with 1 Axes>"
      ]
     },
     "metadata": {},
     "output_type": "display_data"
    }
   ],
   "source": [
    "from fbprophet.plot import plot_cross_validation_metric\n",
    "fig = plot_cross_validation_metric(df_cv, metric='mape')"
   ]
  }
 ],
 "metadata": {
  "kernelspec": {
   "display_name": "Python 3",
   "language": "python",
   "name": "python3"
  },
  "language_info": {
   "codemirror_mode": {
    "name": "ipython",
    "version": 3
   },
   "file_extension": ".py",
   "mimetype": "text/x-python",
   "name": "python",
   "nbconvert_exporter": "python",
   "pygments_lexer": "ipython3",
   "version": "3.6.8"
  }
 },
 "nbformat": 4,
 "nbformat_minor": 5
}
