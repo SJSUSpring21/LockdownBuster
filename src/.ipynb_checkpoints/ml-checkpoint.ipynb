{
 "cells": [
  {
   "cell_type": "code",
   "execution_count": 2,
   "metadata": {},
   "outputs": [
    {
     "name": "stdout",
     "output_type": "stream",
     "text": [
      "  Country_Region        Date  Doses_admin  People_partially_vaccinated  \\\n",
      "0    Afghanistan  2021-04-07     120000.0                     120000.0   \n",
      "1         Africa  2021-04-16   14867246.0                   10039775.0   \n",
      "2        Albania  2021-04-15     314622.0                       6073.0   \n",
      "3        Algeria  2021-02-19      75000.0                          0.0   \n",
      "4        Andorra  2021-04-12      19064.0                       9781.0   \n",
      "\n",
      "   People_fully_vaccinated Report_Date_String   UID  \n",
      "0                      0.0         2021/04/07   4.0  \n",
      "1                4599547.0         2021/04/16   NaN  \n",
      "2                    655.0         2021/04/15   8.0  \n",
      "3                      0.0         2021/02/19  12.0  \n",
      "4                   4484.0         2021/04/12  20.0  \n"
     ]
    }
   ],
   "source": [
    "import torch\n",
    "import math\n",
    "import matplotlib\n",
    "import pandas as pd\n",
    "\n",
    "df = pd.read_csv(\"../dataset/vaccine_data_global.csv\")\n",
    "print(df.head(5))\n"
   ]
  }
 ],
 "metadata": {
  "file_extension": ".py",
  "kernelspec": {
   "display_name": "Python 3",
   "language": "python",
   "name": "python3"
  },
  "language_info": {
   "codemirror_mode": {
    "name": "ipython",
    "version": 3
   },
   "file_extension": ".py",
   "mimetype": "text/x-python",
   "name": "python",
   "nbconvert_exporter": "python",
   "pygments_lexer": "ipython3",
   "version": "3.8.5"
  },
  "mimetype": "text/x-python",
  "name": "python",
  "npconvert_exporter": "python",
  "pygments_lexer": "ipython3",
  "version": 3
 },
 "nbformat": 4,
 "nbformat_minor": 2
}
