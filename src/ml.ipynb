{
 "cells": [
  {
   "cell_type": "code",
   "execution_count": 55,
   "metadata": {},
   "outputs": [
    {
     "name": "stdout",
     "output_type": "stream",
     "text": [
      "       Country      US$ Active\\nCases Tot Cases/\\n1M pop Deaths/\\n1M pop  \\\n",
      "0   Luxembourg  131,782         4,008            100,417           1,212   \n",
      "1  Switzerland   94,696        49,524             70,951           1,201   \n",
      "2      Ireland   94,556       212,796             48,377             961   \n",
      "3       Norway   81,995        13,985             18,999             125   \n",
      "4      Denmark   67,218         8,721             40,942             420   \n",
      "5      Iceland   65,273           103             18,247              85   \n",
      "6    Singapore   64,103           288             10,305               5   \n",
      "7    Australia   62,723         2,149              1,143              35   \n",
      "8        Qatar   59,143        20,057             67,677             119   \n",
      "9       Sweden   58,977           NaN             84,488           1,342   \n",
      "\n",
      "   Population  People_partially_vaccinated  People_fully_vaccinated      2020  \n",
      "0     633,859                     110434.0                  42986.0    73.205  \n",
      "1   8,703,776                    1228368.0                 729842.0   747.427  \n",
      "2   4,980,557                     789526.0                 331477.0   418.716  \n",
      "3   5,454,156                    1025429.0                 299631.0   362.009  \n",
      "4   5,808,065                    1022477.0                 488202.0   352.243  \n",
      "5     342,963                      70058.0                  28614.0    21.715  \n",
      "6   5,886,067                    1131658.0                 535864.0   339.981  \n",
      "7  25,729,274                     159294.0                      0.0  1,359.33  \n",
      "8   2,807,805                     100000.0                      0.0    146.09  \n",
      "9  10,148,191                    1667542.0                 649361.0    537.61  \n"
     ]
    }
   ],
   "source": [
    "import torch\n",
    "import math\n",
    "import matplotlib\n",
    "import pandas as pd\n",
    "from functools import reduce\n",
    "\n",
    "percapin = pd.read_csv(\"../dataset/Percapita-Income - Sheet1.csv\",usecols=[1,2])\n",
    "total = pd.read_csv(\"../dataset/TotalCases,TotalDeaths,TotalRecovered - Sheet1.csv\",usecols=[1,7,9,10,13])\n",
    "vaccine = pd.read_csv(\"../dataset/vaccine_data_global.csv\",usecols=[0,3,4])\n",
    "gdp = pd.read_csv(\"../dataset/WEO_Data.csv\", encoding='latin-1',usecols=[0,6])\n",
    "#print(total.head(5))\n",
    "#fatality = pd.read_csv(\"../dataset/04-16-2021.csv\")\n",
    "\n",
    "data_frames = [percapin,total,vaccine,gdp]\n",
    "df_merged = reduce(lambda  left,right: pd.merge(left,right,on=['Country'],\n",
    "                                            how='inner'), data_frames)\n",
    "                      \n",
    "#print(gdp.head(5))\n",
    "#print(total.head(5))\n",
    "#output = pd.merge(percapin,total, on='Country',how='inner')\n",
    "print(df_merged.head(10))\n",
    "pd.DataFrame.to_csv(df_merged, '../dataset/merged.csv', sep=',', na_rep='.', index=False)\n"
   ]
  }
 ],
 "metadata": {
  "file_extension": ".py",
  "kernelspec": {
   "display_name": "Python 3",
   "language": "python",
   "name": "python3"
  },
  "language_info": {
   "codemirror_mode": {
    "name": "ipython",
    "version": 3
   },
   "file_extension": ".py",
   "mimetype": "text/x-python",
   "name": "python",
   "nbconvert_exporter": "python",
   "pygments_lexer": "ipython3",
   "version": "3.8.5"
  },
  "mimetype": "text/x-python",
  "name": "python",
  "npconvert_exporter": "python",
  "pygments_lexer": "ipython3",
  "version": 3
 },
 "nbformat": 4,
 "nbformat_minor": 2
}
