{
 "cells": [
  {
   "cell_type": "code",
   "execution_count": 70,
   "metadata": {},
   "outputs": [
    {
     "name": "stdout",
     "output_type": "stream",
     "text": [
      "             Country Active\\nCases Tot Cases/\\n1M pop Deaths/\\n1M pop  \\\n",
      "0      United States     6,862,240             95,993           1,732   \n",
      "1              India     1,200,979              9,728             122   \n",
      "2             Brazil     1,248,447             63,081           1,653   \n",
      "3             France     4,650,143             77,367           1,510   \n",
      "4             Russia       272,895             31,794             705   \n",
      "..               ...           ...                ...             ...   \n",
      "141           Bhutan            42              1,180               1   \n",
      "142         Dominica             6              2,288             NaN   \n",
      "143          Grenada             2              1,373               9   \n",
      "144             Fiji             2                 75               2   \n",
      "145  Solomon Islands             1                 27             NaN   \n",
      "\n",
      "        Population     US$  People_partially_vaccinated  \\\n",
      "0      332,510,877  68,309                  129494179.0   \n",
      "1    1,390,530,992   2,191                  104408484.0   \n",
      "2      213,732,948   7,011                   24809790.0   \n",
      "3       65,385,892  44,995                   11982970.0   \n",
      "4      145,983,181  11,654                    9731470.0   \n",
      "..             ...     ...                          ...   \n",
      "141        778,197   3,296                     478219.0   \n",
      "142         72,125   6,989                      17775.0   \n",
      "143        112,928   9,171                       9821.0   \n",
      "144        901,490   5,069                      27705.0   \n",
      "145        699,872   2,455                       2000.0   \n",
      "\n",
      "     People_fully_vaccinated       2020  vaccination_rate  \n",
      "0                 74621644.0  20,932.75          0.224419  \n",
      "1                 15529157.0   2,708.77          0.011168  \n",
      "2                  8000733.0   1,434.08          0.037433  \n",
      "3                  4269590.0   2,598.91          0.065298  \n",
      "4                  5738147.0   1,473.58          0.039307  \n",
      "..                       ...        ...               ...  \n",
      "141                      0.0      2.503          0.000000  \n",
      "142                    337.0      0.517          0.004672  \n",
      "143                      0.0      1.037          0.000000  \n",
      "144                      0.0      4.316          0.000000  \n",
      "145                      0.0      1.567          0.000000  \n",
      "\n",
      "[146 rows x 10 columns]\n"
     ]
    }
   ],
   "source": [
    "import torch\n",
    "import math\n",
    "import matplotlib.pyplot as plt\n",
    "%matplotlib inline\n",
    "import pandas as pd\n",
    "import numpy as np\n",
    "from functools import reduce\n",
    "\n",
    "percapin = pd.read_csv(\"../dataset/Percapita-Income - Sheet1.csv\",usecols=[1,2])\n",
    "total = pd.read_csv(\"../dataset/TotalCases,TotalDeaths,TotalRecovered - Sheet1.csv\",usecols=[1,7,9,10,13])\n",
    "vaccine = pd.read_csv(\"../dataset/vaccine_data_global.csv\",usecols=[0,3,4])\n",
    "gdp = pd.read_csv(\"../dataset/WEO_Data.csv\", encoding='latin-1',usecols=[0,6])\n",
    "#print(total.head(5))\n",
    "#fatality = pd.read_csv(\"../dataset/04-16-2021.csv\")\n",
    "\n",
    "data_frames = [total,percapin,vaccine,gdp]\n",
    "df_merged = reduce(lambda  left,right: pd.merge(left,right,on=['Country'],\n",
    "                                            how='inner'), data_frames)\n",
    "df_merged['vaccination_rate'] = df_merged['People_fully_vaccinated']/df_merged['Population'].str.replace(',', '').astype(float)              \n",
    "#print(gdp.head(5))\n",
    "#print(total.head(5))\n",
    "#output = pd.merge(percapin,total, on='Country',how='inner')\n",
    "print(df_merged)\n",
    "pd.DataFrame.to_csv(df_merged, '../dataset/merged.csv', sep=',', na_rep='.', index=False)\n"
   ]
  },
  {
   "cell_type": "code",
   "execution_count": 63,
   "metadata": {},
   "outputs": [
    {
     "data": {
      "text/html": [
       "<div>\n",
       "<style scoped>\n",
       "    .dataframe tbody tr th:only-of-type {\n",
       "        vertical-align: middle;\n",
       "    }\n",
       "\n",
       "    .dataframe tbody tr th {\n",
       "        vertical-align: top;\n",
       "    }\n",
       "\n",
       "    .dataframe thead th {\n",
       "        text-align: right;\n",
       "    }\n",
       "</style>\n",
       "<table border=\"1\" class=\"dataframe\">\n",
       "  <thead>\n",
       "    <tr style=\"text-align: right;\">\n",
       "      <th></th>\n",
       "      <th>Date</th>\n",
       "      <th>People Fully vaccinated</th>\n",
       "    </tr>\n",
       "  </thead>\n",
       "  <tbody>\n",
       "    <tr>\n",
       "      <th>0</th>\n",
       "      <td>2021-01-19</td>\n",
       "      <td>260838.0</td>\n",
       "    </tr>\n",
       "    <tr>\n",
       "      <th>1</th>\n",
       "      <td>2021-01-20</td>\n",
       "      <td>273276.0</td>\n",
       "    </tr>\n",
       "    <tr>\n",
       "      <th>2</th>\n",
       "      <td>2021-01-21</td>\n",
       "      <td>293834.0</td>\n",
       "    </tr>\n",
       "    <tr>\n",
       "      <th>3</th>\n",
       "      <td>2021-01-22</td>\n",
       "      <td>321839.0</td>\n",
       "    </tr>\n",
       "    <tr>\n",
       "      <th>4</th>\n",
       "      <td>2021-01-23</td>\n",
       "      <td>341731.0</td>\n",
       "    </tr>\n",
       "  </tbody>\n",
       "</table>\n",
       "</div>"
      ],
      "text/plain": [
       "         Date  People Fully vaccinated\n",
       "0  2021-01-19                 260838.0\n",
       "1  2021-01-20                 273276.0\n",
       "2  2021-01-21                 293834.0\n",
       "3  2021-01-22                 321839.0\n",
       "4  2021-01-23                 341731.0"
      ]
     },
     "execution_count": 63,
     "metadata": {},
     "output_type": "execute_result"
    }
   ],
   "source": [
    "df = pd.read_csv(\"../dataset/CaliforniaVaccination.csv\",usecols=[0,7])\n",
    "df.columns = [\"Date\", \"People Fully vaccinated\"]\n",
    "df.head()"
   ]
  },
  {
   "cell_type": "code",
   "execution_count": 64,
   "metadata": {},
   "outputs": [
    {
     "data": {
      "text/html": [
       "<div>\n",
       "<style scoped>\n",
       "    .dataframe tbody tr th:only-of-type {\n",
       "        vertical-align: middle;\n",
       "    }\n",
       "\n",
       "    .dataframe tbody tr th {\n",
       "        vertical-align: top;\n",
       "    }\n",
       "\n",
       "    .dataframe thead th {\n",
       "        text-align: right;\n",
       "    }\n",
       "</style>\n",
       "<table border=\"1\" class=\"dataframe\">\n",
       "  <thead>\n",
       "    <tr style=\"text-align: right;\">\n",
       "      <th></th>\n",
       "      <th>Date</th>\n",
       "      <th>People Fully vaccinated</th>\n",
       "    </tr>\n",
       "  </thead>\n",
       "  <tbody>\n",
       "    <tr>\n",
       "      <th>0</th>\n",
       "      <td>2021-01-19</td>\n",
       "      <td>260838.0</td>\n",
       "    </tr>\n",
       "    <tr>\n",
       "      <th>1</th>\n",
       "      <td>2021-01-20</td>\n",
       "      <td>273276.0</td>\n",
       "    </tr>\n",
       "    <tr>\n",
       "      <th>2</th>\n",
       "      <td>2021-01-21</td>\n",
       "      <td>293834.0</td>\n",
       "    </tr>\n",
       "    <tr>\n",
       "      <th>3</th>\n",
       "      <td>2021-01-22</td>\n",
       "      <td>321839.0</td>\n",
       "    </tr>\n",
       "    <tr>\n",
       "      <th>4</th>\n",
       "      <td>2021-01-23</td>\n",
       "      <td>341731.0</td>\n",
       "    </tr>\n",
       "  </tbody>\n",
       "</table>\n",
       "</div>"
      ],
      "text/plain": [
       "        Date  People Fully vaccinated\n",
       "0 2021-01-19                 260838.0\n",
       "1 2021-01-20                 273276.0\n",
       "2 2021-01-21                 293834.0\n",
       "3 2021-01-22                 321839.0\n",
       "4 2021-01-23                 341731.0"
      ]
     },
     "execution_count": 64,
     "metadata": {},
     "output_type": "execute_result"
    }
   ],
   "source": [
    "# Convert data into Datetime\n",
    "df['Date']=pd.to_datetime(df['Date'])\n",
    "df.head()"
   ]
  },
  {
   "cell_type": "code",
   "execution_count": 65,
   "metadata": {},
   "outputs": [
    {
     "data": {
      "text/html": [
       "<div>\n",
       "<style scoped>\n",
       "    .dataframe tbody tr th:only-of-type {\n",
       "        vertical-align: middle;\n",
       "    }\n",
       "\n",
       "    .dataframe tbody tr th {\n",
       "        vertical-align: top;\n",
       "    }\n",
       "\n",
       "    .dataframe thead th {\n",
       "        text-align: right;\n",
       "    }\n",
       "</style>\n",
       "<table border=\"1\" class=\"dataframe\">\n",
       "  <thead>\n",
       "    <tr style=\"text-align: right;\">\n",
       "      <th></th>\n",
       "      <th>People Fully vaccinated</th>\n",
       "    </tr>\n",
       "    <tr>\n",
       "      <th>Date</th>\n",
       "      <th></th>\n",
       "    </tr>\n",
       "  </thead>\n",
       "  <tbody>\n",
       "    <tr>\n",
       "      <th>2021-01-19</th>\n",
       "      <td>260838.0</td>\n",
       "    </tr>\n",
       "    <tr>\n",
       "      <th>2021-01-20</th>\n",
       "      <td>273276.0</td>\n",
       "    </tr>\n",
       "    <tr>\n",
       "      <th>2021-01-21</th>\n",
       "      <td>293834.0</td>\n",
       "    </tr>\n",
       "    <tr>\n",
       "      <th>2021-01-22</th>\n",
       "      <td>321839.0</td>\n",
       "    </tr>\n",
       "    <tr>\n",
       "      <th>2021-01-23</th>\n",
       "      <td>341731.0</td>\n",
       "    </tr>\n",
       "  </tbody>\n",
       "</table>\n",
       "</div>"
      ],
      "text/plain": [
       "            People Fully vaccinated\n",
       "Date                               \n",
       "2021-01-19                 260838.0\n",
       "2021-01-20                 273276.0\n",
       "2021-01-21                 293834.0\n",
       "2021-01-22                 321839.0\n",
       "2021-01-23                 341731.0"
      ]
     },
     "execution_count": 65,
     "metadata": {},
     "output_type": "execute_result"
    }
   ],
   "source": [
    "indexDataset = df.set_index('Date')\n",
    "from datetime import datetime\n",
    "indexDataset.head()"
   ]
  },
  {
   "cell_type": "code",
   "execution_count": 68,
   "metadata": {},
   "outputs": [
    {
     "data": {
      "text/plain": [
       "[<matplotlib.lines.Line2D at 0x7fc37899d820>]"
      ]
     },
     "execution_count": 68,
     "metadata": {},
     "output_type": "execute_result"
    },
    {
     "data": {
      "image/png": "[encoded data removed]",
      "text/plain": [
       "<Figure size 432x288 with 1 Axes>"
      ]
     },
     "metadata": {
      "needs_background": "light"
     },
     "output_type": "display_data"
    }
   ],
   "source": [
    "plt.xlabel(\"Date\")\n",
    "plt.ylabel(\"People Fully vaccinated\")\n",
    "plt.plot(indexDataset)"
   ]
  },
  {
   "cell_type": "code",
   "execution_count": 30,
   "metadata": {},
   "outputs": [],
   "source": [
    "### Testing For Stationarity\n",
    "\n",
    "from statsmodels.tsa.stattools import adfuller"
   ]
  },
  {
   "cell_type": "code",
   "execution_count": 33,
   "metadata": {},
   "outputs": [],
   "source": [
    "test_result=adfuller(df['People Fully vaccinated'])"
   ]
  },
  {
   "cell_type": "code",
   "execution_count": 34,
   "metadata": {},
   "outputs": [],
   "source": [
    "#Ho: It is non stationary\n",
    "#H1: It is stationary\n",
    "\n",
    "def adfuller_test(sales):\n",
    "    result=adfuller(sales)\n",
    "    labels = ['ADF Test Statistic','p-value','#Lags Used','Number of Observations Used']\n",
    "    for value,label in zip(result,labels):\n",
    "        print(label+' : '+str(value) )\n",
    "    if result[1] <= 0.05:\n",
    "        print(\"strong evidence against the null hypothesis(Ho), reject the null hypothesis. Data has no unit root and is stationary\")\n",
    "    else:\n",
    "        print(\"weak evidence against null hypothesis, time series has a unit root, indicating it is non-stationary \")"
   ]
  },
  {
   "cell_type": "code",
   "execution_count": 35,
   "metadata": {},
   "outputs": [
    {
     "name": "stdout",
     "output_type": "stream",
     "text": [
      "ADF Test Statistic : 5.3070228002556465\n",
      "p-value : 1.0\n",
      "#Lags Used : 3\n",
      "Number of Observations Used : 89\n",
      "weak evidence against null hypothesis, time series has a unit root, indicating it is non-stationary \n"
     ]
    }
   ],
   "source": [
    "adfuller_test(df['People Fully vaccinated'])"
   ]
  },
  {
   "cell_type": "code",
   "execution_count": 41,
   "metadata": {},
   "outputs": [],
   "source": [
    "df['Vaccination First Difference'] = df['People Fully vaccinated'] - df['People Fully vaccinated'].shift(30)"
   ]
  },
  {
   "cell_type": "code",
   "execution_count": 42,
   "metadata": {},
   "outputs": [
    {
     "data": {
      "text/plain": [
       "Date\n",
       "2021-01-19          NaN\n",
       "2021-01-20          NaN\n",
       "2021-01-21          NaN\n",
       "2021-01-22          NaN\n",
       "2021-01-23          NaN\n",
       "                ...    \n",
       "2021-04-17    4517256.0\n",
       "2021-04-18    4644718.0\n",
       "2021-04-19    4792324.0\n",
       "2021-04-20    4980526.0\n",
       "2021-04-21    5102480.0\n",
       "Name: People Fully vaccinated, Length: 93, dtype: float64"
      ]
     },
     "execution_count": 42,
     "metadata": {},
     "output_type": "execute_result"
    }
   ],
   "source": [
    "df['People Fully vaccinated'].shift(30)"
   ]
  },
  {
   "cell_type": "code",
   "execution_count": 86,
   "metadata": {},
   "outputs": [],
   "source": [
    "indexDataset_log = np.log(indexDataset)"
   ]
  },
  {
   "cell_type": "code",
   "execution_count": 87,
   "metadata": {},
   "outputs": [
    {
     "name": "stdout",
     "output_type": "stream",
     "text": [
      "ADF Test Statistic : -4.3325503974002855\n",
      "p-value : 0.0003899599910846657\n",
      "#Lags Used : 3\n",
      "Number of Observations Used : 89\n",
      "strong evidence against the null hypothesis(Ho), reject the null hypothesis. Data has no unit root and is stationary\n"
     ]
    }
   ],
   "source": [
    "adfuller_test(indexDataset_log)"
   ]
  },
  {
   "cell_type": "code",
   "execution_count": 88,
   "metadata": {},
   "outputs": [
    {
     "data": {
      "text/plain": [
       "<AxesSubplot:xlabel='Date'>"
      ]
     },
     "execution_count": 88,
     "metadata": {},
     "output_type": "execute_result"
    },
    {
     "data": {
      "image/png": "[encoded data removed]",
      "text/plain": [
       "<Figure size 432x288 with 1 Axes>"
      ]
     },
     "metadata": {
      "needs_background": "light"
     },
     "output_type": "display_data"
    }
   ],
   "source": [
    "indexDataset_log.plot()"
   ]
  }
 ],
 "metadata": {
  "file_extension": ".py",
  "kernelspec": {
   "display_name": "Python 3",
   "language": "python",
   "name": "python3"
  },
  "language_info": {
   "codemirror_mode": {
    "name": "ipython",
    "version": 3
   },
   "file_extension": ".py",
   "mimetype": "text/x-python",
   "name": "python",
   "nbconvert_exporter": "python",
   "pygments_lexer": "ipython3",
   "version": "3.6.8"
  },
  "mimetype": "text/x-python",
  "name": "python",
  "npconvert_exporter": "python",
  "pygments_lexer": "ipython3",
  "version": 3
 },
 "nbformat": 4,
 "nbformat_minor": 2
}
