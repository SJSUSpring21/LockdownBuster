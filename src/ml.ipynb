{
 "cells": [
  {
   "cell_type": "code",
   "execution_count": 59,
   "metadata": {},
   "outputs": [
    {
     "name": "stdout",
     "output_type": "stream",
     "text": [
      "       Country      US$ Active\\nCases Tot Cases/\\n1M pop Deaths/\\n1M pop  \\\n",
      "0   Luxembourg  131,782         4,008            100,417           1,212   \n",
      "1  Switzerland   94,696        49,524             70,951           1,201   \n",
      "2      Ireland   94,556       212,796             48,377             961   \n",
      "3       Norway   81,995        13,985             18,999             125   \n",
      "4      Denmark   67,218         8,721             40,942             420   \n",
      "\n",
      "  Population  People_partially_vaccinated  People_fully_vaccinated     2020  \\\n",
      "0    633,859                     110434.0                  42986.0   73.205   \n",
      "1  8,703,776                    1228368.0                 729842.0  747.427   \n",
      "2  4,980,557                     789526.0                 331477.0  418.716   \n",
      "3  5,454,156                    1025429.0                 299631.0  362.009   \n",
      "4  5,808,065                    1022477.0                 488202.0  352.243   \n",
      "\n",
      "   vaccination_rate  \n",
      "0          0.067816  \n",
      "1          0.083853  \n",
      "2          0.066554  \n",
      "3          0.054936  \n",
      "4          0.084056  \n"
     ]
    }
   ],
   "source": [
    "import torch\n",
    "import math\n",
    "import matplotlib\n",
    "import pandas as pd\n",
    "from functools import reduce\n",
    "\n",
    "percapin = pd.read_csv(\"../dataset/Percapita-Income - Sheet1.csv\",usecols=[1,2])\n",
    "total = pd.read_csv(\"../dataset/TotalCases,TotalDeaths,TotalRecovered - Sheet1.csv\",usecols=[1,7,9,10,13])\n",
    "vaccine = pd.read_csv(\"../dataset/vaccine_data_global.csv\",usecols=[0,3,4])\n",
    "gdp = pd.read_csv(\"../dataset/WEO_Data.csv\", encoding='latin-1',usecols=[0,6])\n",
    "#print(total.head(5))\n",
    "#fatality = pd.read_csv(\"../dataset/04-16-2021.csv\")\n",
    "\n",
    "data_frames = [percapin,total,vaccine,gdp]\n",
    "df_merged = reduce(lambda  left,right: pd.merge(left,right,on=['Country'],\n",
    "                                            how='inner'), data_frames)\n",
    "df_merged['vaccination_rate'] = df_merged['People_fully_vaccinated']/df_merged['Population'].str.replace(',', '').astype(float)              \n",
    "#print(gdp.head(5))\n",
    "#print(total.head(5))\n",
    "#output = pd.merge(percapin,total, on='Country',how='inner')\n",
    "print(df_merged.head(5))\n",
    "#pd.DataFrame.to_csv(df_merged, '../dataset/merged.csv', sep=',', na_rep='.', index=False)\n"
   ]
  }
 ],
 "metadata": {
  "file_extension": ".py",
  "kernelspec": {
   "display_name": "Python 3",
   "language": "python",
   "name": "python3"
  },
  "language_info": {
   "codemirror_mode": {
    "name": "ipython",
    "version": 3
   },
   "file_extension": ".py",
   "mimetype": "text/x-python",
   "name": "python",
   "nbconvert_exporter": "python",
   "pygments_lexer": "ipython3",
   "version": "3.8.5"
  },
  "mimetype": "text/x-python",
  "name": "python",
  "npconvert_exporter": "python",
  "pygments_lexer": "ipython3",
  "version": 3
 },
 "nbformat": 4,
 "nbformat_minor": 2
}
