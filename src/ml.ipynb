{
 "cells": [
  {
   "cell_type": "code",
   "execution_count": 18,
   "metadata": {},
   "outputs": [
    {
     "name": "stdout",
     "output_type": "stream",
     "text": [
      "                                               Country Active\\nCases  \\\n",
      "0                                                World    23,810,939   \n",
      "1                                        United States     6,862,240   \n",
      "2                                                India     1,200,979   \n",
      "3                                               Brazil     1,248,447   \n",
      "4                                               France     4,650,143   \n",
      "..                                                 ...           ...   \n",
      "265                     St. Vincent and the Grenadines           NaN   \n",
      "266                           Taiwan Province of China           NaN   \n",
      "267                                 West Bank and Gaza           NaN   \n",
      "268                                                NaN           NaN   \n",
      "269  International Monetary Fund, World Economic Ou...           NaN   \n",
      "\n",
      "    Tot Cases/\\n1M pop Deaths/\\n1M pop     Population     US$  \\\n",
      "0               17,530           378.4            NaN     NaN   \n",
      "1               95,993           1,732    332,510,877  68,309   \n",
      "2                9,728             122  1,390,530,992   2,191   \n",
      "3               63,081           1,653    213,732,948   7,011   \n",
      "4               77,367           1,510     65,385,892  44,995   \n",
      "..                 ...             ...            ...     ...   \n",
      "265                NaN             NaN            NaN     NaN   \n",
      "266                NaN             NaN            NaN     NaN   \n",
      "267                NaN             NaN            NaN     NaN   \n",
      "268                NaN             NaN            NaN     NaN   \n",
      "269                NaN             NaN            NaN     NaN   \n",
      "\n",
      "     People_partially_vaccinated  People_fully_vaccinated       2020  \n",
      "0                    487410659.0              194807398.0        NaN  \n",
      "1                    129494179.0               74621644.0  20,932.75  \n",
      "2                    104408484.0               15529157.0   2,708.77  \n",
      "3                     24809790.0                8000733.0   1,434.08  \n",
      "4                     11982970.0                4269590.0   2,598.91  \n",
      "..                           ...                      ...        ...  \n",
      "265                          NaN                      NaN      0.787  \n",
      "266                          NaN                      NaN     668.51  \n",
      "267                          NaN                      NaN     15.519  \n",
      "268                          NaN                      NaN        NaN  \n",
      "269                          NaN                      NaN        NaN  \n",
      "\n",
      "[270 rows x 9 columns]\n"
     ]
    }
   ],
   "source": [
    "import torch\n",
    "import math\n",
    "import matplotlib\n",
    "import pandas as pd\n",
    "from functools import reduce\n",
    "\n",
    "percapin = pd.read_csv(\"../dataset/Percapita-Income - Sheet1.csv\",usecols=[1,2])\n",
    "total = pd.read_csv(\"../dataset/TotalCases,TotalDeaths,TotalRecovered - Sheet1.csv\",usecols=[1,7,9,10,13])\n",
    "vaccine = pd.read_csv(\"../dataset/vaccine_data_global.csv\",usecols=[0,3,4])\n",
    "gdp = pd.read_csv(\"../dataset/WEO_Data.csv\", encoding='latin-1',usecols=[0,6])\n",
    "#print(total.head(5))\n",
    "#fatality = pd.read_csv(\"../dataset/04-16-2021.csv\")\n",
    "\n",
    "data_frames = [total,percapin,vaccine,gdp]\n",
    "df_merged = reduce(lambda  left,right: pd.merge(left,right,on=['Country'],\n",
    "                                            how='inner'), data_frames)\n",
    "#df_merged['vaccination_rate'] = df_merged['People_fully_vaccinated']/df_merged['Population'].str.replace(',', '').astype(float)              \n",
    "#print(gdp.head(5))\n",
    "#print(total.head(5))\n",
    "#output = pd.merge(percapin,total, on='Country',how='inner')\n",
    "print(df_merged)\n",
    "pd.DataFrame.to_csv(df_merged, '../dataset/merged.csv', sep=',', na_rep='.', index=False)\n"
   ]
  }
 ],
 "metadata": {
  "file_extension": ".py",
  "kernelspec": {
   "display_name": "Python 3",
   "language": "python",
   "name": "python3"
  },
  "language_info": {
   "codemirror_mode": {
    "name": "ipython",
    "version": 3
   },
   "file_extension": ".py",
   "mimetype": "text/x-python",
   "name": "python",
   "nbconvert_exporter": "python",
   "pygments_lexer": "ipython3",
   "version": "3.8.5"
  },
  "mimetype": "text/x-python",
  "name": "python",
  "npconvert_exporter": "python",
  "pygments_lexer": "ipython3",
  "version": 3
 },
 "nbformat": 4,
 "nbformat_minor": 2
}
