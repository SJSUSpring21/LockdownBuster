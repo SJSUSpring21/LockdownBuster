{
 "cells": [
  {
   "cell_type": "code",
   "execution_count": 20,
   "metadata": {},
   "outputs": [
    {
     "name": "stdout",
     "output_type": "stream",
     "text": [
      "             Country Active\\nCases Tot Cases/\\n1M pop Deaths/\\n1M pop  \\\n",
      "0      United States     6,862,240             95,993           1,732   \n",
      "1              India     1,200,979              9,728             122   \n",
      "2             Brazil     1,248,447             63,081           1,653   \n",
      "3             France     4,650,143             77,367           1,510   \n",
      "4             Russia       272,895             31,794             705   \n",
      "..               ...           ...                ...             ...   \n",
      "141           Bhutan            42              1,180               1   \n",
      "142         Dominica             6              2,288             NaN   \n",
      "143          Grenada             2              1,373               9   \n",
      "144             Fiji             2                 75               2   \n",
      "145  Solomon Islands             1                 27             NaN   \n",
      "\n",
      "        Population     US$  People_partially_vaccinated  \\\n",
      "0      332,510,877  68,309                  129494179.0   \n",
      "1    1,390,530,992   2,191                  104408484.0   \n",
      "2      213,732,948   7,011                   24809790.0   \n",
      "3       65,385,892  44,995                   11982970.0   \n",
      "4      145,983,181  11,654                    9731470.0   \n",
      "..             ...     ...                          ...   \n",
      "141        778,197   3,296                     478219.0   \n",
      "142         72,125   6,989                      17775.0   \n",
      "143        112,928   9,171                       9821.0   \n",
      "144        901,490   5,069                      27705.0   \n",
      "145        699,872   2,455                       2000.0   \n",
      "\n",
      "     People_fully_vaccinated       2020  vaccination_rate  \n",
      "0                 74621644.0  20,932.75          0.224419  \n",
      "1                 15529157.0   2,708.77          0.011168  \n",
      "2                  8000733.0   1,434.08          0.037433  \n",
      "3                  4269590.0   2,598.91          0.065298  \n",
      "4                  5738147.0   1,473.58          0.039307  \n",
      "..                       ...        ...               ...  \n",
      "141                      0.0      2.503          0.000000  \n",
      "142                    337.0      0.517          0.004672  \n",
      "143                      0.0      1.037          0.000000  \n",
      "144                      0.0      4.316          0.000000  \n",
      "145                      0.0      1.567          0.000000  \n",
      "\n",
      "[146 rows x 10 columns]\n"
     ]
    }
   ],
   "source": [
    "import torch\n",
    "import math\n",
    "import matplotlib\n",
    "import pandas as pd\n",
    "from functools import reduce\n",
    "\n",
    "percapin = pd.read_csv(\"../dataset/Percapita-Income - Sheet1.csv\",usecols=[1,2])\n",
    "total = pd.read_csv(\"../dataset/TotalCases,TotalDeaths,TotalRecovered - Sheet1.csv\",usecols=[1,7,9,10,13])\n",
    "vaccine = pd.read_csv(\"../dataset/vaccine_data_global.csv\",usecols=[0,3,4])\n",
    "gdp = pd.read_csv(\"../dataset/WEO_Data.csv\", encoding='latin-1',usecols=[0,6])\n",
    "#print(total.head(5))\n",
    "#fatality = pd.read_csv(\"../dataset/04-16-2021.csv\")\n",
    "\n",
    "data_frames = [total,percapin,vaccine,gdp]\n",
    "df_merged = reduce(lambda  left,right: pd.merge(left,right,on=['Country'],\n",
    "                                            how='inner'), data_frames)\n",
    "df_merged['vaccination_rate'] = df_merged['People_fully_vaccinated']/df_merged['Population'].str.replace(',', '').astype(float)              \n",
    "#print(gdp.head(5))\n",
    "#print(total.head(5))\n",
    "#output = pd.merge(percapin,total, on='Country',how='inner')\n",
    "print(df_merged)\n",
    "pd.DataFrame.to_csv(df_merged, '../dataset/merged.csv', sep=',', na_rep='.', index=False)\n"
   ]
  }
 ],
 "metadata": {
  "file_extension": ".py",
  "kernelspec": {
   "display_name": "Python 3",
   "language": "python",
   "name": "python3"
  },
  "language_info": {
   "codemirror_mode": {
    "name": "ipython",
    "version": 3
   },
   "file_extension": ".py",
   "mimetype": "text/x-python",
   "name": "python",
   "nbconvert_exporter": "python",
   "pygments_lexer": "ipython3",
   "version": "3.8.5"
  },
  "mimetype": "text/x-python",
  "name": "python",
  "npconvert_exporter": "python",
  "pygments_lexer": "ipython3",
  "version": 3
 },
 "nbformat": 4,
 "nbformat_minor": 2
}
